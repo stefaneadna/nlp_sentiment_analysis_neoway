{
 "cells": [
  {
   "attachments": {},
   "cell_type": "markdown",
   "metadata": {},
   "source": [
    "## Análise dos dados do dataset"
   ]
  },
  {
   "cell_type": "code",
   "execution_count": 52,
   "metadata": {},
   "outputs": [],
   "source": [
    "import numpy as np\n",
    "import pandas as pd\n",
    "import seaborn as sns\n",
    "import matplotlib.pyplot as plt\n",
    "from IPython.display import Markdown\n",
    "\n",
    "pd.set_option(\"display.max_rows\", 15)\n",
    "pd.set_option('display.max_columns',100)"
   ]
  },
  {
   "cell_type": "code",
   "execution_count": 2,
   "metadata": {},
   "outputs": [
    {
     "name": "stdout",
     "output_type": "stream",
     "text": [
      "<class 'pandas.core.frame.DataFrame'>\n",
      "RangeIndex: 132373 entries, 0 to 132372\n",
      "Data columns (total 14 columns):\n",
      " #   Column                 Non-Null Count   Dtype  \n",
      "---  ------                 --------------   -----  \n",
      " 0   submission_date        132373 non-null  object \n",
      " 1   reviewer_id            132373 non-null  object \n",
      " 2   product_id             132373 non-null  object \n",
      " 3   product_name           132289 non-null  object \n",
      " 4   product_brand          40982 non-null   object \n",
      " 5   site_category_lv1      132367 non-null  object \n",
      " 6   site_category_lv2      128360 non-null  object \n",
      " 7   review_title           132071 non-null  object \n",
      " 8   overall_rating         132373 non-null  int64  \n",
      " 9   recommend_to_a_friend  132355 non-null  object \n",
      " 10  review_text            129098 non-null  object \n",
      " 11  reviewer_birth_year    126389 non-null  float64\n",
      " 12  reviewer_gender        128237 non-null  object \n",
      " 13  reviewer_state         128382 non-null  object \n",
      "dtypes: float64(1), int64(1), object(12)\n",
      "memory usage: 14.1+ MB\n"
     ]
    },
    {
     "name": "stderr",
     "output_type": "stream",
     "text": [
      "c:\\Users\\STEFA\\Anaconda3\\envs\\apolo\\lib\\site-packages\\IPython\\core\\interactiveshell.py:3553: DtypeWarning: Columns (2) have mixed types.Specify dtype option on import or set low_memory=False.\n",
      "  exec(code_obj, self.user_global_ns, self.user_ns)\n"
     ]
    },
    {
     "data": {
      "text/plain": [
       "None"
      ]
     },
     "metadata": {},
     "output_type": "display_data"
    },
    {
     "data": {
      "text/html": [
       "<div>\n",
       "<style scoped>\n",
       "    .dataframe tbody tr th:only-of-type {\n",
       "        vertical-align: middle;\n",
       "    }\n",
       "\n",
       "    .dataframe tbody tr th {\n",
       "        vertical-align: top;\n",
       "    }\n",
       "\n",
       "    .dataframe thead th {\n",
       "        text-align: right;\n",
       "    }\n",
       "</style>\n",
       "<table border=\"1\" class=\"dataframe\">\n",
       "  <thead>\n",
       "    <tr style=\"text-align: right;\">\n",
       "      <th></th>\n",
       "      <th>submission_date</th>\n",
       "      <th>reviewer_id</th>\n",
       "      <th>product_id</th>\n",
       "      <th>product_name</th>\n",
       "      <th>product_brand</th>\n",
       "      <th>site_category_lv1</th>\n",
       "      <th>site_category_lv2</th>\n",
       "      <th>review_title</th>\n",
       "      <th>overall_rating</th>\n",
       "      <th>recommend_to_a_friend</th>\n",
       "      <th>review_text</th>\n",
       "      <th>reviewer_birth_year</th>\n",
       "      <th>reviewer_gender</th>\n",
       "      <th>reviewer_state</th>\n",
       "    </tr>\n",
       "  </thead>\n",
       "  <tbody>\n",
       "    <tr>\n",
       "      <th>124462</th>\n",
       "      <td>2018-05-21 03:17:43</td>\n",
       "      <td>e2d01a56290f168afc92dd0f5b77b06d3659a6539dc0a8...</td>\n",
       "      <td>27724845</td>\n",
       "      <td>Kit 4 UN Focus Max 30 Caps</td>\n",
       "      <td>NaN</td>\n",
       "      <td>Suplementos e Vitaminas</td>\n",
       "      <td>Vitaminas &amp; Minerais</td>\n",
       "      <td>Pessima</td>\n",
       "      <td>1</td>\n",
       "      <td>No</td>\n",
       "      <td>Gente comprei  e nunca me entregaram so foi de...</td>\n",
       "      <td>1992.0</td>\n",
       "      <td>F</td>\n",
       "      <td>PI</td>\n",
       "    </tr>\n",
       "  </tbody>\n",
       "</table>\n",
       "</div>"
      ],
      "text/plain": [
       "            submission_date  \\\n",
       "124462  2018-05-21 03:17:43   \n",
       "\n",
       "                                              reviewer_id product_id  \\\n",
       "124462  e2d01a56290f168afc92dd0f5b77b06d3659a6539dc0a8...   27724845   \n",
       "\n",
       "                      product_name product_brand        site_category_lv1  \\\n",
       "124462  Kit 4 UN Focus Max 30 Caps           NaN  Suplementos e Vitaminas   \n",
       "\n",
       "           site_category_lv2 review_title  overall_rating  \\\n",
       "124462  Vitaminas & Minerais      Pessima               1   \n",
       "\n",
       "       recommend_to_a_friend  \\\n",
       "124462                    No   \n",
       "\n",
       "                                              review_text  \\\n",
       "124462  Gente comprei  e nunca me entregaram so foi de...   \n",
       "\n",
       "        reviewer_birth_year reviewer_gender reviewer_state  \n",
       "124462               1992.0               F             PI  "
      ]
     },
     "metadata": {},
     "output_type": "display_data"
    }
   ],
   "source": [
    "df = pd.read_csv('../dataset/B2W-Reviews01.csv')\n",
    "\n",
    "display(df.info(),df.sample())"
   ]
  },
  {
   "cell_type": "code",
   "execution_count": 3,
   "metadata": {},
   "outputs": [],
   "source": [
    "df.dropna(subset=['review_title', 'overall_rating','recommend_to_a_friend','review_text','reviewer_birth_year'],inplace=True)\n",
    "df['reviewer_birth_year'] = df['reviewer_birth_year'].astype('int')\n",
    "df['recommend_to_a_friend_cat'] = df['recommend_to_a_friend'].map({'Yes':1,'No':0})"
   ]
  },
  {
   "attachments": {},
   "cell_type": "markdown",
   "metadata": {},
   "source": [
    "## Gráficos"
   ]
  },
  {
   "attachments": {},
   "cell_type": "markdown",
   "metadata": {},
   "source": [
    "#### Distribuição do sexo dos usuários com relação a quantidade de avaliações"
   ]
  },
  {
   "cell_type": "code",
   "execution_count": 58,
   "metadata": {},
   "outputs": [
    {
     "data": {
      "text/markdown": [
       "##### Neste gráfico nós vemos a distribuição do sexo dos usuários com relação a quantidade de avaliações boas ou ruins de um determinado produto. "
      ],
      "text/plain": [
       "<IPython.core.display.Markdown object>"
      ]
     },
     "metadata": {},
     "output_type": "display_data"
    },
    {
     "data": {
      "image/png": "[encoded data removed]",
      "text/plain": [
       "<Figure size 400x400 with 1 Axes>"
      ]
     },
     "metadata": {},
     "output_type": "display_data"
    }
   ],
   "source": [
    "display(Markdown(\"##### Neste gráfico nós vemos a distribuição do sexo dos usuários com relação a quantidade de avaliações boas ou ruins de um determinado produto. \"))\n",
    "sns.set(style=\"whitegrid\")\n",
    "plt.figure(figsize=(4,4))\n",
    "sns.countplot(x='recommend_to_a_friend', data = df, hue='reviewer_gender',palette='YlOrBr',edgecolor = \"black\")\n",
    "plt.xlabel(\"Usuário recomenda um produto\")\n",
    "plt.ylabel(\"Quantidade de avaliações\")\n",
    "plt.title(\"Relação entre as avaliações dos produtos e o sexo\")\n",
    "plt.legend(title='Sexo', loc='upper right', labels=['Feminino', 'Masculino'])\n",
    "plt.show()"
   ]
  },
  {
   "attachments": {},
   "cell_type": "markdown",
   "metadata": {},
   "source": [
    "#### Number of positive and negative reviews"
   ]
  },
  {
   "cell_type": "code",
   "execution_count": 56,
   "metadata": {},
   "outputs": [
    {
     "data": {
      "text/html": [
       "<div>\n",
       "<style scoped>\n",
       "    .dataframe tbody tr th:only-of-type {\n",
       "        vertical-align: middle;\n",
       "    }\n",
       "\n",
       "    .dataframe tbody tr th {\n",
       "        vertical-align: top;\n",
       "    }\n",
       "\n",
       "    .dataframe thead th {\n",
       "        text-align: right;\n",
       "    }\n",
       "</style>\n",
       "<table border=\"1\" class=\"dataframe\">\n",
       "  <thead>\n",
       "    <tr style=\"text-align: right;\">\n",
       "      <th></th>\n",
       "      <th>Product Name</th>\n",
       "      <th>Number of positive reviews</th>\n",
       "    </tr>\n",
       "  </thead>\n",
       "  <tbody>\n",
       "    <tr>\n",
       "      <th>0</th>\n",
       "      <td>Aspirador de Pó Philco Rapid 1000N Vermelho/Pr...</td>\n",
       "      <td>705</td>\n",
       "    </tr>\n",
       "    <tr>\n",
       "      <th>1</th>\n",
       "      <td>Smartphone Motorola Moto G 5S Dual Chip Androi...</td>\n",
       "      <td>678</td>\n",
       "    </tr>\n",
       "    <tr>\n",
       "      <th>2</th>\n",
       "      <td>Smartphone Samsung Galaxy J7 Metal Dual Chip A...</td>\n",
       "      <td>593</td>\n",
       "    </tr>\n",
       "    <tr>\n",
       "      <th>3</th>\n",
       "      <td>Smartphone Motorola Moto G 5S Dual Chip Androi...</td>\n",
       "      <td>470</td>\n",
       "    </tr>\n",
       "    <tr>\n",
       "      <th>4</th>\n",
       "      <td>Smartphone Samsung Galaxy J7 Prime Dual Chip A...</td>\n",
       "      <td>429</td>\n",
       "    </tr>\n",
       "    <tr>\n",
       "      <th>5</th>\n",
       "      <td>Smartphone Samsung Galaxy J5 Prime Dual Chip A...</td>\n",
       "      <td>422</td>\n",
       "    </tr>\n",
       "    <tr>\n",
       "      <th>6</th>\n",
       "      <td>Smart TV LED 32\" Samsung 32J4300 HD com Conver...</td>\n",
       "      <td>402</td>\n",
       "    </tr>\n",
       "    <tr>\n",
       "      <th>7</th>\n",
       "      <td>Smartphone Moto G 5S Dual Chip Android 7.0 Tel...</td>\n",
       "      <td>369</td>\n",
       "    </tr>\n",
       "    <tr>\n",
       "      <th>8</th>\n",
       "      <td>Smartphone Samsung Galaxy J5 Pro Dual Chip And...</td>\n",
       "      <td>366</td>\n",
       "    </tr>\n",
       "    <tr>\n",
       "      <th>9</th>\n",
       "      <td>Smartphone Samsung Galaxy J7 Metal Dual Chip A...</td>\n",
       "      <td>361</td>\n",
       "    </tr>\n",
       "    <tr>\n",
       "      <th>10</th>\n",
       "      <td>Mop Giratório Fit + Refil Extra - At Home</td>\n",
       "      <td>338</td>\n",
       "    </tr>\n",
       "    <tr>\n",
       "      <th>11</th>\n",
       "      <td>Smartphone Motorola Moto G5S Plus Dual Chip An...</td>\n",
       "      <td>319</td>\n",
       "    </tr>\n",
       "    <tr>\n",
       "      <th>12</th>\n",
       "      <td>Smart TV LED 43\" Samsung 43MU6100 UHD 4K HDR P...</td>\n",
       "      <td>306</td>\n",
       "    </tr>\n",
       "    <tr>\n",
       "      <th>13</th>\n",
       "      <td>Smart TV LED 32'' Semp Toshiba TCL 32L2600 HD ...</td>\n",
       "      <td>281</td>\n",
       "    </tr>\n",
       "    <tr>\n",
       "      <th>14</th>\n",
       "      <td>Smartphone Samsung Galaxy On 7 Dual Chip Andro...</td>\n",
       "      <td>262</td>\n",
       "    </tr>\n",
       "  </tbody>\n",
       "</table>\n",
       "</div>"
      ],
      "text/plain": [
       "                                         Product Name  \\\n",
       "0   Aspirador de Pó Philco Rapid 1000N Vermelho/Pr...   \n",
       "1   Smartphone Motorola Moto G 5S Dual Chip Androi...   \n",
       "2   Smartphone Samsung Galaxy J7 Metal Dual Chip A...   \n",
       "3   Smartphone Motorola Moto G 5S Dual Chip Androi...   \n",
       "4   Smartphone Samsung Galaxy J7 Prime Dual Chip A...   \n",
       "5   Smartphone Samsung Galaxy J5 Prime Dual Chip A...   \n",
       "6   Smart TV LED 32\" Samsung 32J4300 HD com Conver...   \n",
       "7   Smartphone Moto G 5S Dual Chip Android 7.0 Tel...   \n",
       "8   Smartphone Samsung Galaxy J5 Pro Dual Chip And...   \n",
       "9   Smartphone Samsung Galaxy J7 Metal Dual Chip A...   \n",
       "10          Mop Giratório Fit + Refil Extra - At Home   \n",
       "11  Smartphone Motorola Moto G5S Plus Dual Chip An...   \n",
       "12  Smart TV LED 43\" Samsung 43MU6100 UHD 4K HDR P...   \n",
       "13  Smart TV LED 32'' Semp Toshiba TCL 32L2600 HD ...   \n",
       "14  Smartphone Samsung Galaxy On 7 Dual Chip Andro...   \n",
       "\n",
       "    Number of positive reviews  \n",
       "0                          705  \n",
       "1                          678  \n",
       "2                          593  \n",
       "3                          470  \n",
       "4                          429  \n",
       "5                          422  \n",
       "6                          402  \n",
       "7                          369  \n",
       "8                          366  \n",
       "9                          361  \n",
       "10                         338  \n",
       "11                         319  \n",
       "12                         306  \n",
       "13                         281  \n",
       "14                         262  "
      ]
     },
     "metadata": {},
     "output_type": "display_data"
    }
   ],
   "source": [
    "data = df[df['recommend_to_a_friend']=='Yes']['product_name'].value_counts().to_frame().reset_index()\n",
    "data.rename(columns={'index':'Product Name','product_name':'Number of positive reviews'},inplace=True)\n",
    "display(data[0:15])"
   ]
  },
  {
   "cell_type": "code",
   "execution_count": 57,
   "metadata": {},
   "outputs": [
    {
     "data": {
      "text/html": [
       "<div>\n",
       "<style scoped>\n",
       "    .dataframe tbody tr th:only-of-type {\n",
       "        vertical-align: middle;\n",
       "    }\n",
       "\n",
       "    .dataframe tbody tr th {\n",
       "        vertical-align: top;\n",
       "    }\n",
       "\n",
       "    .dataframe thead th {\n",
       "        text-align: right;\n",
       "    }\n",
       "</style>\n",
       "<table border=\"1\" class=\"dataframe\">\n",
       "  <thead>\n",
       "    <tr style=\"text-align: right;\">\n",
       "      <th></th>\n",
       "      <th>Product Name</th>\n",
       "      <th>Number of negative reviews</th>\n",
       "    </tr>\n",
       "  </thead>\n",
       "  <tbody>\n",
       "    <tr>\n",
       "      <th>0</th>\n",
       "      <td>Game God Of War - PS4</td>\n",
       "      <td>148</td>\n",
       "    </tr>\n",
       "    <tr>\n",
       "      <th>1</th>\n",
       "      <td>Smart TV LED 39\" Philco PH39N86DSGW HD com Con...</td>\n",
       "      <td>110</td>\n",
       "    </tr>\n",
       "    <tr>\n",
       "      <th>2</th>\n",
       "      <td>Smartphone Motorola Moto G 5S Dual Chip Androi...</td>\n",
       "      <td>74</td>\n",
       "    </tr>\n",
       "    <tr>\n",
       "      <th>3</th>\n",
       "      <td>Smart TV LED 32\" Samsung 32J4300 HD com Conver...</td>\n",
       "      <td>71</td>\n",
       "    </tr>\n",
       "    <tr>\n",
       "      <th>4</th>\n",
       "      <td>Smartphone Samsung Galaxy J7 Prime Dual Chip A...</td>\n",
       "      <td>64</td>\n",
       "    </tr>\n",
       "    <tr>\n",
       "      <th>5</th>\n",
       "      <td>Chapinha Prancha Profissional Nano Titanium 1 ...</td>\n",
       "      <td>64</td>\n",
       "    </tr>\n",
       "    <tr>\n",
       "      <th>6</th>\n",
       "      <td>Smartphone Samsung Galaxy J5 Prime Dual Chip A...</td>\n",
       "      <td>62</td>\n",
       "    </tr>\n",
       "    <tr>\n",
       "      <th>7</th>\n",
       "      <td>Jogo de Panelas Euro Home Ágatha Colors 5 Peça...</td>\n",
       "      <td>55</td>\n",
       "    </tr>\n",
       "    <tr>\n",
       "      <th>8</th>\n",
       "      <td>Smartphone Motorola Moto G 5S Dual Chip Androi...</td>\n",
       "      <td>54</td>\n",
       "    </tr>\n",
       "    <tr>\n",
       "      <th>9</th>\n",
       "      <td>Smart TV LED 55\" Philco PH55A17DSGWA4k Ultra H...</td>\n",
       "      <td>54</td>\n",
       "    </tr>\n",
       "    <tr>\n",
       "      <th>10</th>\n",
       "      <td>Purificador de Água Polar WP1000A WP2000A Elet...</td>\n",
       "      <td>51</td>\n",
       "    </tr>\n",
       "    <tr>\n",
       "      <th>11</th>\n",
       "      <td>Prancha Chapinha Nano Titanium 450 °F</td>\n",
       "      <td>51</td>\n",
       "    </tr>\n",
       "    <tr>\n",
       "      <th>12</th>\n",
       "      <td>Smartphone Samsung Galaxy J7 Metal Dual Chip A...</td>\n",
       "      <td>48</td>\n",
       "    </tr>\n",
       "    <tr>\n",
       "      <th>13</th>\n",
       "      <td>Smartphone Motorola Moto C Xt1750 Dual Sim Tel...</td>\n",
       "      <td>48</td>\n",
       "    </tr>\n",
       "    <tr>\n",
       "      <th>14</th>\n",
       "      <td>Smart TV LED 49\" LG 49UJ6525 Com Conversor Dig...</td>\n",
       "      <td>46</td>\n",
       "    </tr>\n",
       "  </tbody>\n",
       "</table>\n",
       "</div>"
      ],
      "text/plain": [
       "                                         Product Name  \\\n",
       "0                               Game God Of War - PS4   \n",
       "1   Smart TV LED 39\" Philco PH39N86DSGW HD com Con...   \n",
       "2   Smartphone Motorola Moto G 5S Dual Chip Androi...   \n",
       "3   Smart TV LED 32\" Samsung 32J4300 HD com Conver...   \n",
       "4   Smartphone Samsung Galaxy J7 Prime Dual Chip A...   \n",
       "5   Chapinha Prancha Profissional Nano Titanium 1 ...   \n",
       "6   Smartphone Samsung Galaxy J5 Prime Dual Chip A...   \n",
       "7   Jogo de Panelas Euro Home Ágatha Colors 5 Peça...   \n",
       "8   Smartphone Motorola Moto G 5S Dual Chip Androi...   \n",
       "9   Smart TV LED 55\" Philco PH55A17DSGWA4k Ultra H...   \n",
       "10  Purificador de Água Polar WP1000A WP2000A Elet...   \n",
       "11              Prancha Chapinha Nano Titanium 450 °F   \n",
       "12  Smartphone Samsung Galaxy J7 Metal Dual Chip A...   \n",
       "13  Smartphone Motorola Moto C Xt1750 Dual Sim Tel...   \n",
       "14  Smart TV LED 49\" LG 49UJ6525 Com Conversor Dig...   \n",
       "\n",
       "    Number of negative reviews  \n",
       "0                          148  \n",
       "1                          110  \n",
       "2                           74  \n",
       "3                           71  \n",
       "4                           64  \n",
       "5                           64  \n",
       "6                           62  \n",
       "7                           55  \n",
       "8                           54  \n",
       "9                           54  \n",
       "10                          51  \n",
       "11                          51  \n",
       "12                          48  \n",
       "13                          48  \n",
       "14                          46  "
      ]
     },
     "metadata": {},
     "output_type": "display_data"
    }
   ],
   "source": [
    "data = df[df['recommend_to_a_friend']=='No']['product_name'].value_counts().to_frame().reset_index()\n",
    "data.rename(columns={'index':'Product Name','product_name':'Number of negative reviews'},inplace=True)\n",
    "display(data[0:15])"
   ]
  },
  {
   "attachments": {},
   "cell_type": "markdown",
   "metadata": {},
   "source": [
    "#### Faixa etária e avaliação\n",
    "\n",
    "- 0-15: Grupo 1\n",
    "- 15-25: Grupo 2\n",
    "- 25-35: Grupo 3\n",
    "- 35-50: Grupo 4\n",
    "- 60-100: Grupo 5"
   ]
  },
  {
   "cell_type": "code",
   "execution_count": 68,
   "metadata": {},
   "outputs": [],
   "source": [
    "def age_year(age):\n",
    "    if(age<100):\n",
    "        age = 1900 + age\n",
    "    return 2023-age\n",
    "\n",
    "df['age'] = df['reviewer_birth_year'].apply(age_year)"
   ]
  },
  {
   "cell_type": "code",
   "execution_count": 80,
   "metadata": {},
   "outputs": [],
   "source": [
    "#Considera como outlier todos os usuarios com idade acima de 100 anos\n",
    "data = df[df['age']<=100]"
   ]
  },
  {
   "cell_type": "code",
   "execution_count": null,
   "metadata": {},
   "outputs": [],
   "source": []
  }
 ],
 "metadata": {
  "kernelspec": {
   "display_name": "apolo",
   "language": "python",
   "name": "python3"
  },
  "language_info": {
   "codemirror_mode": {
    "name": "ipython",
    "version": 3
   },
   "file_extension": ".py",
   "mimetype": "text/x-python",
   "name": "python",
   "nbconvert_exporter": "python",
   "pygments_lexer": "ipython3",
   "version": "3.7.13"
  },
  "orig_nbformat": 4,
  "vscode": {
   "interpreter": {
    "hash": "6a475ba972ba5257029f78105ab8865320a58f758b398affa8152984676405c1"
   }
  }
 },
 "nbformat": 4,
 "nbformat_minor": 2
}
