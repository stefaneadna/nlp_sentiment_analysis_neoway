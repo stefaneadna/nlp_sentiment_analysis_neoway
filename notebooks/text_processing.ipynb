{
  "cells": [
    {
      "cell_type": "markdown",
      "source": [
        "# Processamento textual"
      ],
      "metadata": {
        "id": "SK05VX-q_iQw"
      }
    },
    {
      "cell_type": "markdown",
      "source": [
        "Este notebook foi execultado utilizando a GPU do Google Colaboratory. Isso porque a base de dados é muito grande e os algoritmos de pré-processamento são muito pesados para rodar na minha máquina, podendo demorar dias para sua execução. Os dados textuais pré-processados foram salvos em um dataset para facilitar as futuras analises, uma vez que poderia demorar muito tempo para rodá-los novamente. Além disso, por a base de dados ser muito grande, só utilizei os primeiros 50 mil do dataset."
      ],
      "metadata": {
        "id": "eW9CyR0K_oYl"
      }
    },
    {
      "cell_type": "markdown",
      "source": [
        "### Google Colab\n",
        "\n",
        "A celula abaixo só deve ser executada se o notebook estiver rodando no Google Colab. Os códigos abaixo são necessários para possibilitar a execução deste notebook no colab."
      ],
      "metadata": {
        "id": "G9gn2WnAA0Nz"
      }
    },
    {
      "cell_type": "code",
      "execution_count": 1,
      "metadata": {
        "colab": {
          "base_uri": "https://localhost:8080/"
        },
        "id": "fsPAToYeTOfi",
        "outputId": "26b9f2d2-2673-47e2-af7a-9412de105cdb"
      },
      "outputs": [
        {
          "output_type": "stream",
          "name": "stdout",
          "text": [
            "2023-02-28 12:39:06.296245: I tensorflow/core/platform/cpu_feature_guard.cc:193] This TensorFlow binary is optimized with oneAPI Deep Neural Network Library (oneDNN) to use the following CPU instructions in performance-critical operations:  AVX2 FMA\n",
            "To enable them in other operations, rebuild TensorFlow with the appropriate compiler flags.\n",
            "2023-02-28 12:39:07.917784: W tensorflow/compiler/xla/stream_executor/platform/default/dso_loader.cc:64] Could not load dynamic library 'libnvinfer.so.7'; dlerror: libnvinfer.so.7: cannot open shared object file: No such file or directory; LD_LIBRARY_PATH: /usr/lib64-nvidia\n",
            "2023-02-28 12:39:07.917983: W tensorflow/compiler/xla/stream_executor/platform/default/dso_loader.cc:64] Could not load dynamic library 'libnvinfer_plugin.so.7'; dlerror: libnvinfer_plugin.so.7: cannot open shared object file: No such file or directory; LD_LIBRARY_PATH: /usr/lib64-nvidia\n",
            "2023-02-28 12:39:07.918014: W tensorflow/compiler/tf2tensorrt/utils/py_utils.cc:38] TF-TRT Warning: Cannot dlopen some TensorRT libraries. If you would like to use Nvidia GPU with TensorRT, please make sure the missing libraries mentioned above are installed properly.\n",
            "Looking in indexes: https://pypi.org/simple, https://us-python.pkg.dev/colab-wheels/public/simple/\n",
            "Collecting pt-core-news-sm==3.4.0\n",
            "  Downloading https://github.com/explosion/spacy-models/releases/download/pt_core_news_sm-3.4.0/pt_core_news_sm-3.4.0-py3-none-any.whl (13.0 MB)\n",
            "\u001b[2K     \u001b[90m━━━━━━━━━━━━━━━━━━━━━━━━━━━━━━━━━━━━━━━━\u001b[0m \u001b[32m13.0/13.0 MB\u001b[0m \u001b[31m8.2 MB/s\u001b[0m eta \u001b[36m0:00:00\u001b[0m\n",
            "\u001b[?25hRequirement already satisfied: spacy<3.5.0,>=3.4.0 in /usr/local/lib/python3.8/dist-packages (from pt-core-news-sm==3.4.0) (3.4.4)\n",
            "Requirement already satisfied: preshed<3.1.0,>=3.0.2 in /usr/local/lib/python3.8/dist-packages (from spacy<3.5.0,>=3.4.0->pt-core-news-sm==3.4.0) (3.0.8)\n",
            "Requirement already satisfied: smart-open<7.0.0,>=5.2.1 in /usr/local/lib/python3.8/dist-packages (from spacy<3.5.0,>=3.4.0->pt-core-news-sm==3.4.0) (6.3.0)\n",
            "Requirement already satisfied: setuptools in /usr/local/lib/python3.8/dist-packages (from spacy<3.5.0,>=3.4.0->pt-core-news-sm==3.4.0) (57.4.0)\n",
            "Requirement already satisfied: catalogue<2.1.0,>=2.0.6 in /usr/local/lib/python3.8/dist-packages (from spacy<3.5.0,>=3.4.0->pt-core-news-sm==3.4.0) (2.0.8)\n",
            "Requirement already satisfied: numpy>=1.15.0 in /usr/local/lib/python3.8/dist-packages (from spacy<3.5.0,>=3.4.0->pt-core-news-sm==3.4.0) (1.22.4)\n",
            "Requirement already satisfied: thinc<8.2.0,>=8.1.0 in /usr/local/lib/python3.8/dist-packages (from spacy<3.5.0,>=3.4.0->pt-core-news-sm==3.4.0) (8.1.7)\n",
            "Requirement already satisfied: langcodes<4.0.0,>=3.2.0 in /usr/local/lib/python3.8/dist-packages (from spacy<3.5.0,>=3.4.0->pt-core-news-sm==3.4.0) (3.3.0)\n",
            "Requirement already satisfied: cymem<2.1.0,>=2.0.2 in /usr/local/lib/python3.8/dist-packages (from spacy<3.5.0,>=3.4.0->pt-core-news-sm==3.4.0) (2.0.7)\n",
            "Requirement already satisfied: packaging>=20.0 in /usr/local/lib/python3.8/dist-packages (from spacy<3.5.0,>=3.4.0->pt-core-news-sm==3.4.0) (23.0)\n",
            "Requirement already satisfied: jinja2 in /usr/local/lib/python3.8/dist-packages (from spacy<3.5.0,>=3.4.0->pt-core-news-sm==3.4.0) (2.11.3)\n",
            "Requirement already satisfied: requests<3.0.0,>=2.13.0 in /usr/local/lib/python3.8/dist-packages (from spacy<3.5.0,>=3.4.0->pt-core-news-sm==3.4.0) (2.25.1)\n",
            "Requirement already satisfied: pathy>=0.3.5 in /usr/local/lib/python3.8/dist-packages (from spacy<3.5.0,>=3.4.0->pt-core-news-sm==3.4.0) (0.10.1)\n",
            "Requirement already satisfied: srsly<3.0.0,>=2.4.3 in /usr/local/lib/python3.8/dist-packages (from spacy<3.5.0,>=3.4.0->pt-core-news-sm==3.4.0) (2.4.5)\n",
            "Requirement already satisfied: typer<0.8.0,>=0.3.0 in /usr/local/lib/python3.8/dist-packages (from spacy<3.5.0,>=3.4.0->pt-core-news-sm==3.4.0) (0.7.0)\n",
            "Requirement already satisfied: tqdm<5.0.0,>=4.38.0 in /usr/local/lib/python3.8/dist-packages (from spacy<3.5.0,>=3.4.0->pt-core-news-sm==3.4.0) (4.64.1)\n",
            "Requirement already satisfied: spacy-legacy<3.1.0,>=3.0.10 in /usr/local/lib/python3.8/dist-packages (from spacy<3.5.0,>=3.4.0->pt-core-news-sm==3.4.0) (3.0.12)\n",
            "Requirement already satisfied: murmurhash<1.1.0,>=0.28.0 in /usr/local/lib/python3.8/dist-packages (from spacy<3.5.0,>=3.4.0->pt-core-news-sm==3.4.0) (1.0.9)\n",
            "Requirement already satisfied: spacy-loggers<2.0.0,>=1.0.0 in /usr/local/lib/python3.8/dist-packages (from spacy<3.5.0,>=3.4.0->pt-core-news-sm==3.4.0) (1.0.4)\n",
            "Requirement already satisfied: pydantic!=1.8,!=1.8.1,<1.11.0,>=1.7.4 in /usr/local/lib/python3.8/dist-packages (from spacy<3.5.0,>=3.4.0->pt-core-news-sm==3.4.0) (1.10.5)\n",
            "Requirement already satisfied: wasabi<1.1.0,>=0.9.1 in /usr/local/lib/python3.8/dist-packages (from spacy<3.5.0,>=3.4.0->pt-core-news-sm==3.4.0) (0.10.1)\n",
            "Requirement already satisfied: typing-extensions>=4.2.0 in /usr/local/lib/python3.8/dist-packages (from pydantic!=1.8,!=1.8.1,<1.11.0,>=1.7.4->spacy<3.5.0,>=3.4.0->pt-core-news-sm==3.4.0) (4.5.0)\n",
            "Requirement already satisfied: urllib3<1.27,>=1.21.1 in /usr/local/lib/python3.8/dist-packages (from requests<3.0.0,>=2.13.0->spacy<3.5.0,>=3.4.0->pt-core-news-sm==3.4.0) (1.24.3)\n",
            "Requirement already satisfied: certifi>=2017.4.17 in /usr/local/lib/python3.8/dist-packages (from requests<3.0.0,>=2.13.0->spacy<3.5.0,>=3.4.0->pt-core-news-sm==3.4.0) (2022.12.7)\n",
            "Requirement already satisfied: chardet<5,>=3.0.2 in /usr/local/lib/python3.8/dist-packages (from requests<3.0.0,>=2.13.0->spacy<3.5.0,>=3.4.0->pt-core-news-sm==3.4.0) (4.0.0)\n",
            "Requirement already satisfied: idna<3,>=2.5 in /usr/local/lib/python3.8/dist-packages (from requests<3.0.0,>=2.13.0->spacy<3.5.0,>=3.4.0->pt-core-news-sm==3.4.0) (2.10)\n",
            "Requirement already satisfied: blis<0.8.0,>=0.7.8 in /usr/local/lib/python3.8/dist-packages (from thinc<8.2.0,>=8.1.0->spacy<3.5.0,>=3.4.0->pt-core-news-sm==3.4.0) (0.7.9)\n",
            "Requirement already satisfied: confection<1.0.0,>=0.0.1 in /usr/local/lib/python3.8/dist-packages (from thinc<8.2.0,>=8.1.0->spacy<3.5.0,>=3.4.0->pt-core-news-sm==3.4.0) (0.0.4)\n",
            "Requirement already satisfied: click<9.0.0,>=7.1.1 in /usr/local/lib/python3.8/dist-packages (from typer<0.8.0,>=0.3.0->spacy<3.5.0,>=3.4.0->pt-core-news-sm==3.4.0) (7.1.2)\n",
            "Requirement already satisfied: MarkupSafe>=0.23 in /usr/local/lib/python3.8/dist-packages (from jinja2->spacy<3.5.0,>=3.4.0->pt-core-news-sm==3.4.0) (2.0.1)\n",
            "Installing collected packages: pt-core-news-sm\n",
            "Successfully installed pt-core-news-sm-3.4.0\n",
            "\u001b[38;5;2m✔ Download and installation successful\u001b[0m\n",
            "You can now load the package via spacy.load('pt_core_news_sm')\n",
            "Looking in indexes: https://pypi.org/simple, https://us-python.pkg.dev/colab-wheels/public/simple/\n",
            "Collecting gensim==4.2.0\n",
            "  Downloading gensim-4.2.0-cp38-cp38-manylinux_2_12_x86_64.manylinux2010_x86_64.whl (24.1 MB)\n",
            "\u001b[2K     \u001b[90m━━━━━━━━━━━━━━━━━━━━━━━━━━━━━━━━━━━━━━━━\u001b[0m \u001b[32m24.1/24.1 MB\u001b[0m \u001b[31m62.2 MB/s\u001b[0m eta \u001b[36m0:00:00\u001b[0m\n",
            "\u001b[?25hRequirement already satisfied: smart-open>=1.8.1 in /usr/local/lib/python3.8/dist-packages (from gensim==4.2.0) (6.3.0)\n",
            "Requirement already satisfied: scipy>=0.18.1 in /usr/local/lib/python3.8/dist-packages (from gensim==4.2.0) (1.7.3)\n",
            "Requirement already satisfied: numpy>=1.17.0 in /usr/local/lib/python3.8/dist-packages (from gensim==4.2.0) (1.22.4)\n",
            "Installing collected packages: gensim\n",
            "  Attempting uninstall: gensim\n",
            "    Found existing installation: gensim 3.6.0\n",
            "    Uninstalling gensim-3.6.0:\n",
            "      Successfully uninstalled gensim-3.6.0\n",
            "Successfully installed gensim-4.2.0\n"
          ]
        }
      ],
      "source": [
        "import locale\n",
        "def getpreferredencoding(do_setlocale = True):\n",
        "    return \"UTF-8\"\n",
        "locale.getpreferredencoding = getpreferredencoding\n",
        "\n",
        "!python3 -m spacy download pt_core_news_sm\n",
        "!pip install gensim==4.2.0"
      ]
    },
    {
      "cell_type": "code",
      "execution_count": 2,
      "metadata": {
        "colab": {
          "base_uri": "https://localhost:8080/"
        },
        "id": "u9Et0nq2sjIr",
        "outputId": "b34c94da-9232-4f81-a278-204954986cd1"
      },
      "outputs": [
        {
          "output_type": "stream",
          "name": "stdout",
          "text": [
            "Mounted at /content/drive\n"
          ]
        }
      ],
      "source": [
        "#Para acessar o Drive e armazenar o dataset pré-processado\n",
        "from google.colab import drive\n",
        "drive.mount('/content/drive')"
      ]
    },
    {
      "cell_type": "markdown",
      "metadata": {
        "id": "WD75Ql2sShMY"
      },
      "source": [
        "## Análise dos dados do dataset"
      ]
    },
    {
      "cell_type": "code",
      "execution_count": 3,
      "metadata": {
        "colab": {
          "base_uri": "https://localhost:8080/"
        },
        "id": "XV20hIpdShMc",
        "outputId": "065c6761-39a2-4ebc-b641-5ebf53964937"
      },
      "outputs": [
        {
          "output_type": "stream",
          "name": "stderr",
          "text": [
            "[nltk_data] Downloading package stopwords to /root/nltk_data...\n",
            "[nltk_data]   Unzipping corpora/stopwords.zip.\n",
            "[nltk_data] Downloading package rslp to /root/nltk_data...\n",
            "[nltk_data]   Unzipping stemmers/rslp.zip.\n",
            "[nltk_data] Downloading package punkt to /root/nltk_data...\n",
            "[nltk_data]   Unzipping tokenizers/punkt.zip.\n",
            "[nltk_data] Downloading package stopwords to /root/nltk_data...\n",
            "[nltk_data]   Package stopwords is already up-to-date!\n",
            "[nltk_data] Downloading package wordnet to /root/nltk_data...\n"
          ]
        }
      ],
      "source": [
        "import pandas as pd\n",
        "import re\n",
        "import nltk\n",
        "from nltk import word_tokenize, download\n",
        "nltk.download('stopwords')\n",
        "from nltk.corpus import stopwords\n",
        "nltk.download('rslp')\n",
        "from nltk.stem import RSLPStemmer\n",
        "import spacy\n",
        "from sklearn.preprocessing import StandardScaler\n",
        "from tqdm import tqdm\n",
        "import numpy as np\n",
        "download('punkt')\n",
        "download('stopwords')\n",
        "download('wordnet')\n",
        "import pickle\n",
        "\n",
        "pd.set_option(\"display.max_rows\", 5)\n",
        "pd.set_option('display.max_columns',100)"
      ]
    },
    {
      "cell_type": "code",
      "execution_count": 6,
      "metadata": {
        "colab": {
          "base_uri": "https://localhost:8080/",
          "height": 611
        },
        "id": "JhVlZ32nShMe",
        "outputId": "e05986f0-7bec-4dc3-abdd-3c1bc3ca7758"
      },
      "outputs": [
        {
          "output_type": "stream",
          "name": "stdout",
          "text": [
            "<class 'pandas.core.frame.DataFrame'>\n",
            "RangeIndex: 132373 entries, 0 to 132372\n",
            "Data columns (total 15 columns):\n",
            " #   Column                 Non-Null Count   Dtype  \n",
            "---  ------                 --------------   -----  \n",
            " 0   Unnamed: 0             132373 non-null  int64  \n",
            " 1   submission_date        132373 non-null  object \n",
            " 2   reviewer_id            132373 non-null  object \n",
            " 3   product_id             132373 non-null  object \n",
            " 4   product_name           132289 non-null  object \n",
            " 5   product_brand          40982 non-null   object \n",
            " 6   site_category_lv1      132367 non-null  object \n",
            " 7   site_category_lv2      128360 non-null  object \n",
            " 8   review_title           132071 non-null  object \n",
            " 9   overall_rating         132373 non-null  int64  \n",
            " 10  recommend_to_a_friend  132355 non-null  object \n",
            " 11  review_text            129098 non-null  object \n",
            " 12  reviewer_birth_year    126389 non-null  float64\n",
            " 13  reviewer_gender        128237 non-null  object \n",
            " 14  reviewer_state         128382 non-null  object \n",
            "dtypes: float64(1), int64(2), object(12)\n",
            "memory usage: 15.1+ MB\n"
          ]
        },
        {
          "output_type": "stream",
          "name": "stderr",
          "text": [
            "/usr/local/lib/python3.8/dist-packages/IPython/core/interactiveshell.py:3326: DtypeWarning: Columns (3) have mixed types.Specify dtype option on import or set low_memory=False.\n",
            "  exec(code_obj, self.user_global_ns, self.user_ns)\n"
          ]
        },
        {
          "output_type": "display_data",
          "data": {
            "text/plain": [
              "None"
            ]
          },
          "metadata": {}
        },
        {
          "output_type": "display_data",
          "data": {
            "text/plain": [
              "      Unnamed: 0      submission_date  \\\n",
              "2502        2502  2018-01-03 03:39:39   \n",
              "\n",
              "                                            reviewer_id product_id  \\\n",
              "2502  5fae3261264c908c9ba14d35146ce688658b9d1acf37f0...  131245964   \n",
              "\n",
              "                                           product_name product_brand  \\\n",
              "2502  Smartphone Asus Zenfone Go LTE Dual Chip Andro...           NaN   \n",
              "\n",
              "            site_category_lv1 site_category_lv2 review_title  overall_rating  \\\n",
              "2502  Celulares e Smartphones        Smartphone  Sem produto               1   \n",
              "\n",
              "     recommend_to_a_friend                                        review_text  \\\n",
              "2502                    No  Não chegou nada prazo de entrega ultrapassado ...   \n",
              "\n",
              "      reviewer_birth_year reviewer_gender reviewer_state  \n",
              "2502               1989.0               F             SP  "
            ],
            "text/html": [
              "\n",
              "  <div id=\"df-dbc778bb-e5b1-4ae2-8422-d45a4933580f\">\n",
              "    <div class=\"colab-df-container\">\n",
              "      <div>\n",
              "<style scoped>\n",
              "    .dataframe tbody tr th:only-of-type {\n",
              "        vertical-align: middle;\n",
              "    }\n",
              "\n",
              "    .dataframe tbody tr th {\n",
              "        vertical-align: top;\n",
              "    }\n",
              "\n",
              "    .dataframe thead th {\n",
              "        text-align: right;\n",
              "    }\n",
              "</style>\n",
              "<table border=\"1\" class=\"dataframe\">\n",
              "  <thead>\n",
              "    <tr style=\"text-align: right;\">\n",
              "      <th></th>\n",
              "      <th>Unnamed: 0</th>\n",
              "      <th>submission_date</th>\n",
              "      <th>reviewer_id</th>\n",
              "      <th>product_id</th>\n",
              "      <th>product_name</th>\n",
              "      <th>product_brand</th>\n",
              "      <th>site_category_lv1</th>\n",
              "      <th>site_category_lv2</th>\n",
              "      <th>review_title</th>\n",
              "      <th>overall_rating</th>\n",
              "      <th>recommend_to_a_friend</th>\n",
              "      <th>review_text</th>\n",
              "      <th>reviewer_birth_year</th>\n",
              "      <th>reviewer_gender</th>\n",
              "      <th>reviewer_state</th>\n",
              "    </tr>\n",
              "  </thead>\n",
              "  <tbody>\n",
              "    <tr>\n",
              "      <th>2502</th>\n",
              "      <td>2502</td>\n",
              "      <td>2018-01-03 03:39:39</td>\n",
              "      <td>5fae3261264c908c9ba14d35146ce688658b9d1acf37f0...</td>\n",
              "      <td>131245964</td>\n",
              "      <td>Smartphone Asus Zenfone Go LTE Dual Chip Andro...</td>\n",
              "      <td>NaN</td>\n",
              "      <td>Celulares e Smartphones</td>\n",
              "      <td>Smartphone</td>\n",
              "      <td>Sem produto</td>\n",
              "      <td>1</td>\n",
              "      <td>No</td>\n",
              "      <td>Não chegou nada prazo de entrega ultrapassado ...</td>\n",
              "      <td>1989.0</td>\n",
              "      <td>F</td>\n",
              "      <td>SP</td>\n",
              "    </tr>\n",
              "  </tbody>\n",
              "</table>\n",
              "</div>\n",
              "      <button class=\"colab-df-convert\" onclick=\"convertToInteractive('df-dbc778bb-e5b1-4ae2-8422-d45a4933580f')\"\n",
              "              title=\"Convert this dataframe to an interactive table.\"\n",
              "              style=\"display:none;\">\n",
              "        \n",
              "  <svg xmlns=\"http://www.w3.org/2000/svg\" height=\"24px\"viewBox=\"0 0 24 24\"\n",
              "       width=\"24px\">\n",
              "    <path d=\"M0 0h24v24H0V0z\" fill=\"none\"/>\n",
              "    <path d=\"M18.56 5.44l.94 2.06.94-2.06 2.06-.94-2.06-.94-.94-2.06-.94 2.06-2.06.94zm-11 1L8.5 8.5l.94-2.06 2.06-.94-2.06-.94L8.5 2.5l-.94 2.06-2.06.94zm10 10l.94 2.06.94-2.06 2.06-.94-2.06-.94-.94-2.06-.94 2.06-2.06.94z\"/><path d=\"M17.41 7.96l-1.37-1.37c-.4-.4-.92-.59-1.43-.59-.52 0-1.04.2-1.43.59L10.3 9.45l-7.72 7.72c-.78.78-.78 2.05 0 2.83L4 21.41c.39.39.9.59 1.41.59.51 0 1.02-.2 1.41-.59l7.78-7.78 2.81-2.81c.8-.78.8-2.07 0-2.86zM5.41 20L4 18.59l7.72-7.72 1.47 1.35L5.41 20z\"/>\n",
              "  </svg>\n",
              "      </button>\n",
              "      \n",
              "  <style>\n",
              "    .colab-df-container {\n",
              "      display:flex;\n",
              "      flex-wrap:wrap;\n",
              "      gap: 12px;\n",
              "    }\n",
              "\n",
              "    .colab-df-convert {\n",
              "      background-color: #E8F0FE;\n",
              "      border: none;\n",
              "      border-radius: 50%;\n",
              "      cursor: pointer;\n",
              "      display: none;\n",
              "      fill: #1967D2;\n",
              "      height: 32px;\n",
              "      padding: 0 0 0 0;\n",
              "      width: 32px;\n",
              "    }\n",
              "\n",
              "    .colab-df-convert:hover {\n",
              "      background-color: #E2EBFA;\n",
              "      box-shadow: 0px 1px 2px rgba(60, 64, 67, 0.3), 0px 1px 3px 1px rgba(60, 64, 67, 0.15);\n",
              "      fill: #174EA6;\n",
              "    }\n",
              "\n",
              "    [theme=dark] .colab-df-convert {\n",
              "      background-color: #3B4455;\n",
              "      fill: #D2E3FC;\n",
              "    }\n",
              "\n",
              "    [theme=dark] .colab-df-convert:hover {\n",
              "      background-color: #434B5C;\n",
              "      box-shadow: 0px 1px 3px 1px rgba(0, 0, 0, 0.15);\n",
              "      filter: drop-shadow(0px 1px 2px rgba(0, 0, 0, 0.3));\n",
              "      fill: #FFFFFF;\n",
              "    }\n",
              "  </style>\n",
              "\n",
              "      <script>\n",
              "        const buttonEl =\n",
              "          document.querySelector('#df-dbc778bb-e5b1-4ae2-8422-d45a4933580f button.colab-df-convert');\n",
              "        buttonEl.style.display =\n",
              "          google.colab.kernel.accessAllowed ? 'block' : 'none';\n",
              "\n",
              "        async function convertToInteractive(key) {\n",
              "          const element = document.querySelector('#df-dbc778bb-e5b1-4ae2-8422-d45a4933580f');\n",
              "          const dataTable =\n",
              "            await google.colab.kernel.invokeFunction('convertToInteractive',\n",
              "                                                     [key], {});\n",
              "          if (!dataTable) return;\n",
              "\n",
              "          const docLinkHtml = 'Like what you see? Visit the ' +\n",
              "            '<a target=\"_blank\" href=https://colab.research.google.com/notebooks/data_table.ipynb>data table notebook</a>'\n",
              "            + ' to learn more about interactive tables.';\n",
              "          element.innerHTML = '';\n",
              "          dataTable['output_type'] = 'display_data';\n",
              "          await google.colab.output.renderOutput(dataTable, element);\n",
              "          const docLink = document.createElement('div');\n",
              "          docLink.innerHTML = docLinkHtml;\n",
              "          element.appendChild(docLink);\n",
              "        }\n",
              "      </script>\n",
              "    </div>\n",
              "  </div>\n",
              "  "
            ]
          },
          "metadata": {}
        }
      ],
      "source": [
        "#carrega os dados do drive\n",
        "df = pd.read_csv(r\"drive/My Drive/stefane/neoway/dataset/B2W-Reviews01.csv\")\n",
        "display(df.info(),df.sample())"
      ]
    },
    {
      "cell_type": "markdown",
      "source": [
        "Apaga dados nulos e duplicados"
      ],
      "metadata": {
        "id": "N_IHs7C0BmCo"
      }
    },
    {
      "cell_type": "code",
      "execution_count": 7,
      "metadata": {
        "id": "_9wfdlP3ShMf"
      },
      "outputs": [],
      "source": [
        "df.dropna(subset=['review_title', 'overall_rating','recommend_to_a_friend','review_text','reviewer_birth_year'],inplace=True)\n",
        "df['reviewer_birth_year'] = df['reviewer_birth_year'].astype('int')\n",
        "df['recommend_to_a_friend_cat'] = df['recommend_to_a_friend'].map({'Yes':1,'No':0})\n",
        "df.drop_duplicates(inplace=True)\n",
        "df = df.reset_index()"
      ]
    },
    {
      "cell_type": "markdown",
      "metadata": {
        "id": "2lQIzA4aShMg"
      },
      "source": [
        "## NLP"
      ]
    },
    {
      "cell_type": "markdown",
      "metadata": {
        "id": "OYfu4V1dShMg"
      },
      "source": [
        "##### Remoção de caracteres especiais, numeros e pontuações"
      ]
    },
    {
      "cell_type": "code",
      "execution_count": 8,
      "metadata": {
        "id": "XeJBFT5OShMh"
      },
      "outputs": [],
      "source": [
        "def remove_special_characters(text):\n",
        "    \"\"\"Remove os caracteres especiais de uma frase\n",
        "\n",
        "    Args:\n",
        "        text (String): Frase para remoção de seus caracteres especiais\n",
        "    Returns:\n",
        "        String: Frase após o pré-processamento\n",
        "    \"\"\"    \n",
        "    characters_1 = re.compile(\"[$.;:!\\'?@,\\\"()\\[\\]]\")\n",
        "    characters_2 = re.compile(\"(<br\\s*/><br\\s*/>)|(\\-)|(\\/)\")\n",
        "    characters_3 = re.compile('[0-9]+')\n",
        "\n",
        "    text = characters_1.sub(\"\", text)\n",
        "    text = characters_2.sub(\" \", text.lower())\n",
        "    text = characters_3.sub(\"\", text)\n",
        "    \n",
        "    return text"
      ]
    },
    {
      "cell_type": "markdown",
      "metadata": {
        "id": "bsF6qR4oShMi"
      },
      "source": [
        "##### Cria os tokens e remove as stop words"
      ]
    },
    {
      "cell_type": "code",
      "execution_count": 9,
      "metadata": {
        "id": "vkSt668HShMi"
      },
      "outputs": [],
      "source": [
        "def token_and_remove_sw(text):\n",
        "    \"\"\"Remove as stop words de uma frase e tokeniza a frase. \n",
        "\n",
        "    Args:\n",
        "        text (String): Frase para tokenização e remoção de stop words\n",
        "\n",
        "    Returns:\n",
        "        list: Uma lista contendo todos os tokens da frase\n",
        "    \"\"\"\n",
        "    text = remove_special_characters(text)\n",
        "    text_tokens = word_tokenize(text, language='portuguese') \n",
        "    stop_words = set(stopwords.words('portuguese'))\n",
        "    text_without_sw = [token for token in text_tokens if token not in stop_words]\n",
        "    return text_without_sw "
      ]
    },
    {
      "cell_type": "markdown",
      "metadata": {
        "id": "ZssxO0SzShMi"
      },
      "source": [
        "##### Processamento textual usando stemmatização do nltk"
      ]
    },
    {
      "cell_type": "code",
      "execution_count": 10,
      "metadata": {
        "id": "EWYoGpEAShMj"
      },
      "outputs": [],
      "source": [
        "def stemmize(text):\n",
        "    \"\"\"Realiza o pré-processamento de uma frase, realizando remoção de caracteres especiais e de stop words,\n",
        "       faz também a tokenização e stemização da frase. \n",
        "\n",
        "    Args:\n",
        "        text (list): A frase que deve ser pré-processada\n",
        "\n",
        "    Returns:\n",
        "        list: Uma lista com os tokens stemizados\n",
        "    \"\"\"\n",
        "    stemmer = RSLPStemmer()\n",
        "    text = token_and_remove_sw(text)\n",
        "    text_stem = [stemmer.stem(token) for token in text]\n",
        "    return text_stem"
      ]
    },
    {
      "cell_type": "markdown",
      "metadata": {
        "id": "KyNmozw4ShMj"
      },
      "source": [
        "##### Processamento textual utilizando a lematização do Spacy"
      ]
    },
    {
      "cell_type": "code",
      "execution_count": 11,
      "metadata": {
        "id": "IKV9svAKShMj"
      },
      "outputs": [],
      "source": [
        "def lemmatize(text):\n",
        "    \"\"\"Realiza o pré-processamento de uma frase, realizando remoção de caracteres especiais e de stop words,\n",
        "       faz também a tokenização e lematização da frase. \n",
        "\n",
        "    Args:\n",
        "        text (list): A frase que deve ser pré-processada\n",
        "\n",
        "    Returns:\n",
        "        list: Uma lista com os tokens lematizados\n",
        "    \"\"\"\n",
        "    nlp = spacy.load('pt_core_news_sm')\n",
        "    text = token_and_remove_sw(text)\n",
        "    doc = nlp(str(text))\n",
        "    text_lemma = [token.lemma_ for token in doc \n",
        "                  if token.pos_ not in ['PUNCT','PROPN','ADP']]\n",
        "    return text_lemma"
      ]
    },
    {
      "cell_type": "markdown",
      "metadata": {
        "id": "wY8gyPPsShMj"
      },
      "source": [
        "##### Processamento textual utilizando a stemmatização do nltk e lematização do Spacy"
      ]
    },
    {
      "cell_type": "code",
      "execution_count": 12,
      "metadata": {
        "id": "tjcfA4xmShMk"
      },
      "outputs": [],
      "source": [
        "def lemmatize_and_stemmize(text):\n",
        "    \"\"\"Realiza o pré-processamento de uma frase, realizando remoção de caracteres especiais e de stop words,\n",
        "       faz também a tokenização, lematização stemização da frase. \n",
        "\n",
        "    Args:\n",
        "        text (list): A frase que deve ser pré-processada\n",
        "\n",
        "    Returns:\n",
        "        list: Uma lista com os tokens lematizados e stemizados\n",
        "    \"\"\"\n",
        "    nlp = spacy.load('pt_core_news_sm')\n",
        "    stemmer = RSLPStemmer()\n",
        "    text = token_and_remove_sw(text)\n",
        "    doc = nlp(str(text))\n",
        "    text_lemma_stem = [stemmer.stem(token.lemma_) for token in doc \n",
        "                       if token.pos_ not in ['PUNCT','PROPN','ADP']]\n",
        "    return text_lemma_stem"
      ]
    },
    {
      "cell_type": "markdown",
      "metadata": {
        "id": "qM5VGe8lmuwv"
      },
      "source": [
        "#### Salva os dados pré-processados no dataset"
      ]
    },
    {
      "cell_type": "code",
      "source": [
        "data = df[0:5]\n",
        "data['title_stem'] = data['review_title'].apply(stemmize)\n",
        "data['text_stem'] = data['review_text'].apply(stemmize)\n",
        "\n",
        "data['title_lemma'] = data['review_title'].apply(lemmatize)\n",
        "data['text_lemma'] = data['review_text'].apply(lemmatize)\n",
        "\n",
        "data['title_lemma_stem'] = data['review_title'].apply(lemmatize_and_stemmize)\n",
        "data['text_lemma_stem'] = data['review_text'].apply(lemmatize_and_stemmize)\n",
        "data.to_csv(r\"drive/My Drive/stefane/neoway/dataset/B2W-Reviews01_edit.csv\")"
      ],
      "metadata": {
        "colab": {
          "base_uri": "https://localhost:8080/"
        },
        "id": "UxhSD9oSDOmX",
        "outputId": "b8214f37-c241-42b5-fb20-ba024264c231"
      },
      "execution_count": 15,
      "outputs": [
        {
          "output_type": "stream",
          "name": "stderr",
          "text": [
            "<ipython-input-15-967e5535ca74>:2: SettingWithCopyWarning: \n",
            "A value is trying to be set on a copy of a slice from a DataFrame.\n",
            "Try using .loc[row_indexer,col_indexer] = value instead\n",
            "\n",
            "See the caveats in the documentation: https://pandas.pydata.org/pandas-docs/stable/user_guide/indexing.html#returning-a-view-versus-a-copy\n",
            "  data['title_stem'] = data['review_title'].apply(stemmize)\n",
            "<ipython-input-15-967e5535ca74>:3: SettingWithCopyWarning: \n",
            "A value is trying to be set on a copy of a slice from a DataFrame.\n",
            "Try using .loc[row_indexer,col_indexer] = value instead\n",
            "\n",
            "See the caveats in the documentation: https://pandas.pydata.org/pandas-docs/stable/user_guide/indexing.html#returning-a-view-versus-a-copy\n",
            "  data['text_stem'] = data['review_text'].apply(stemmize)\n",
            "<ipython-input-15-967e5535ca74>:5: SettingWithCopyWarning: \n",
            "A value is trying to be set on a copy of a slice from a DataFrame.\n",
            "Try using .loc[row_indexer,col_indexer] = value instead\n",
            "\n",
            "See the caveats in the documentation: https://pandas.pydata.org/pandas-docs/stable/user_guide/indexing.html#returning-a-view-versus-a-copy\n",
            "  data['title_lemma'] = data['review_title'].apply(lemmatize)\n",
            "<ipython-input-15-967e5535ca74>:6: SettingWithCopyWarning: \n",
            "A value is trying to be set on a copy of a slice from a DataFrame.\n",
            "Try using .loc[row_indexer,col_indexer] = value instead\n",
            "\n",
            "See the caveats in the documentation: https://pandas.pydata.org/pandas-docs/stable/user_guide/indexing.html#returning-a-view-versus-a-copy\n",
            "  data['text_lemma'] = data['review_text'].apply(lemmatize)\n",
            "<ipython-input-15-967e5535ca74>:8: SettingWithCopyWarning: \n",
            "A value is trying to be set on a copy of a slice from a DataFrame.\n",
            "Try using .loc[row_indexer,col_indexer] = value instead\n",
            "\n",
            "See the caveats in the documentation: https://pandas.pydata.org/pandas-docs/stable/user_guide/indexing.html#returning-a-view-versus-a-copy\n",
            "  data['title_lemma_stem'] = data['review_title'].apply(lemmatize_and_stemmize)\n",
            "<ipython-input-15-967e5535ca74>:9: SettingWithCopyWarning: \n",
            "A value is trying to be set on a copy of a slice from a DataFrame.\n",
            "Try using .loc[row_indexer,col_indexer] = value instead\n",
            "\n",
            "See the caveats in the documentation: https://pandas.pydata.org/pandas-docs/stable/user_guide/indexing.html#returning-a-view-versus-a-copy\n",
            "  data['text_lemma_stem'] = data['review_text'].apply(lemmatize_and_stemmize)\n"
          ]
        }
      ]
    }
  ],
  "metadata": {
    "accelerator": "GPU",
    "colab": {
      "provenance": []
    },
    "gpuClass": "standard",
    "kernelspec": {
      "display_name": "apolo",
      "language": "python",
      "name": "python3"
    },
    "language_info": {
      "codemirror_mode": {
        "name": "ipython",
        "version": 3
      },
      "file_extension": ".py",
      "mimetype": "text/x-python",
      "name": "python",
      "nbconvert_exporter": "python",
      "pygments_lexer": "ipython3",
      "version": "3.7.13"
    },
    "vscode": {
      "interpreter": {
        "hash": "6a475ba972ba5257029f78105ab8865320a58f758b398affa8152984676405c1"
      }
    }
  },
  "nbformat": 4,
  "nbformat_minor": 0
}