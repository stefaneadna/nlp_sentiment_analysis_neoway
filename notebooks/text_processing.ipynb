{
 "cells": [
  {
   "attachments": {},
   "cell_type": "markdown",
   "metadata": {},
   "source": [
    "## Análise dos dados do dataset"
   ]
  },
  {
   "cell_type": "code",
   "execution_count": 137,
   "metadata": {},
   "outputs": [
    {
     "name": "stderr",
     "output_type": "stream",
     "text": [
      "[nltk_data] Downloading package stopwords to\n",
      "[nltk_data]     C:\\Users\\STEFA\\AppData\\Roaming\\nltk_data...\n",
      "[nltk_data]   Package stopwords is already up-to-date!\n",
      "[nltk_data] Downloading package rslp to\n",
      "[nltk_data]     C:\\Users\\STEFA\\AppData\\Roaming\\nltk_data...\n",
      "[nltk_data]   Package rslp is already up-to-date!\n",
      "[nltk_data] Downloading package punkt to\n",
      "[nltk_data]     C:\\Users\\STEFA\\AppData\\Roaming\\nltk_data...\n",
      "[nltk_data]   Package punkt is already up-to-date!\n",
      "[nltk_data] Downloading package stopwords to\n",
      "[nltk_data]     C:\\Users\\STEFA\\AppData\\Roaming\\nltk_data...\n",
      "[nltk_data]   Package stopwords is already up-to-date!\n",
      "[nltk_data] Downloading package wordnet to\n",
      "[nltk_data]     C:\\Users\\STEFA\\AppData\\Roaming\\nltk_data...\n",
      "[nltk_data]   Package wordnet is already up-to-date!\n"
     ]
    }
   ],
   "source": [
    "import numpy as np\n",
    "import pandas as pd\n",
    "import seaborn as sns\n",
    "import re\n",
    "import nltk\n",
    "from nltk import word_tokenize, download\n",
    "nltk.download('stopwords')\n",
    "from nltk.corpus import stopwords\n",
    "nltk.download('rslp')\n",
    "from nltk.stem import RSLPStemmer\n",
    "import spacy\n",
    "\n",
    "download('punkt')\n",
    "download('stopwords')\n",
    "download('wordnet')\n",
    "\n",
    "pd.set_option(\"display.max_rows\", 5)\n",
    "pd.set_option('display.max_columns',100)"
   ]
  },
  {
   "cell_type": "code",
   "execution_count": 2,
   "metadata": {},
   "outputs": [
    {
     "name": "stdout",
     "output_type": "stream",
     "text": [
      "<class 'pandas.core.frame.DataFrame'>\n",
      "RangeIndex: 132373 entries, 0 to 132372\n",
      "Data columns (total 14 columns):\n",
      " #   Column                 Non-Null Count   Dtype  \n",
      "---  ------                 --------------   -----  \n",
      " 0   submission_date        132373 non-null  object \n",
      " 1   reviewer_id            132373 non-null  object \n",
      " 2   product_id             132373 non-null  object \n",
      " 3   product_name           132289 non-null  object \n",
      " 4   product_brand          40982 non-null   object \n",
      " 5   site_category_lv1      132367 non-null  object \n",
      " 6   site_category_lv2      128360 non-null  object \n",
      " 7   review_title           132071 non-null  object \n",
      " 8   overall_rating         132373 non-null  int64  \n",
      " 9   recommend_to_a_friend  132355 non-null  object \n",
      " 10  review_text            129098 non-null  object \n",
      " 11  reviewer_birth_year    126389 non-null  float64\n",
      " 12  reviewer_gender        128237 non-null  object \n",
      " 13  reviewer_state         128382 non-null  object \n",
      "dtypes: float64(1), int64(1), object(12)\n",
      "memory usage: 14.1+ MB\n"
     ]
    },
    {
     "name": "stderr",
     "output_type": "stream",
     "text": [
      "c:\\Users\\STEFA\\Anaconda3\\envs\\apolo\\lib\\site-packages\\IPython\\core\\interactiveshell.py:3553: DtypeWarning: Columns (2) have mixed types.Specify dtype option on import or set low_memory=False.\n",
      "  exec(code_obj, self.user_global_ns, self.user_ns)\n"
     ]
    },
    {
     "data": {
      "text/plain": [
       "None"
      ]
     },
     "metadata": {},
     "output_type": "display_data"
    },
    {
     "data": {
      "text/html": [
       "<div>\n",
       "<style scoped>\n",
       "    .dataframe tbody tr th:only-of-type {\n",
       "        vertical-align: middle;\n",
       "    }\n",
       "\n",
       "    .dataframe tbody tr th {\n",
       "        vertical-align: top;\n",
       "    }\n",
       "\n",
       "    .dataframe thead th {\n",
       "        text-align: right;\n",
       "    }\n",
       "</style>\n",
       "<table border=\"1\" class=\"dataframe\">\n",
       "  <thead>\n",
       "    <tr style=\"text-align: right;\">\n",
       "      <th></th>\n",
       "      <th>submission_date</th>\n",
       "      <th>reviewer_id</th>\n",
       "      <th>product_id</th>\n",
       "      <th>product_name</th>\n",
       "      <th>product_brand</th>\n",
       "      <th>site_category_lv1</th>\n",
       "      <th>site_category_lv2</th>\n",
       "      <th>review_title</th>\n",
       "      <th>overall_rating</th>\n",
       "      <th>recommend_to_a_friend</th>\n",
       "      <th>review_text</th>\n",
       "      <th>reviewer_birth_year</th>\n",
       "      <th>reviewer_gender</th>\n",
       "      <th>reviewer_state</th>\n",
       "    </tr>\n",
       "  </thead>\n",
       "  <tbody>\n",
       "    <tr>\n",
       "      <th>9882</th>\n",
       "      <td>2018-01-08 07:12:16</td>\n",
       "      <td>805fc232bf7f3e46f35c0c87c7ee88b1ef2a6b4bd637b5...</td>\n",
       "      <td>11380724</td>\n",
       "      <td>Bomba Elétrica A Pilha Para Galão De Água</td>\n",
       "      <td>NaN</td>\n",
       "      <td>Utilidades Domésticas</td>\n",
       "      <td>Utensílios e Acessórios Domésticos</td>\n",
       "      <td>Produto de má qualidade</td>\n",
       "      <td>1</td>\n",
       "      <td>No</td>\n",
       "      <td>Produto não funcionou. Veio com o motor fraco ...</td>\n",
       "      <td>1969.0</td>\n",
       "      <td>M</td>\n",
       "      <td>SP</td>\n",
       "    </tr>\n",
       "  </tbody>\n",
       "</table>\n",
       "</div>"
      ],
      "text/plain": [
       "          submission_date                                        reviewer_id  \\\n",
       "9882  2018-01-08 07:12:16  805fc232bf7f3e46f35c0c87c7ee88b1ef2a6b4bd637b5...   \n",
       "\n",
       "     product_id                               product_name product_brand  \\\n",
       "9882   11380724  Bomba Elétrica A Pilha Para Galão De Água           NaN   \n",
       "\n",
       "          site_category_lv1                   site_category_lv2  \\\n",
       "9882  Utilidades Domésticas  Utensílios e Acessórios Domésticos   \n",
       "\n",
       "                 review_title  overall_rating recommend_to_a_friend  \\\n",
       "9882  Produto de má qualidade               1                    No   \n",
       "\n",
       "                                            review_text  reviewer_birth_year  \\\n",
       "9882  Produto não funcionou. Veio com o motor fraco ...               1969.0   \n",
       "\n",
       "     reviewer_gender reviewer_state  \n",
       "9882               M             SP  "
      ]
     },
     "metadata": {},
     "output_type": "display_data"
    }
   ],
   "source": [
    "df = pd.read_csv('../dataset/B2W-Reviews01.csv')\n",
    "\n",
    "display(df.info(),df.sample())"
   ]
  },
  {
   "cell_type": "code",
   "execution_count": 3,
   "metadata": {},
   "outputs": [],
   "source": [
    "df.dropna(subset=['review_title', 'overall_rating','recommend_to_a_friend','review_text','reviewer_birth_year'],inplace=True)\n",
    "df['reviewer_birth_year'] = df['reviewer_birth_year'].astype('int')"
   ]
  },
  {
   "attachments": {},
   "cell_type": "markdown",
   "metadata": {},
   "source": [
    "## NLP"
   ]
  },
  {
   "attachments": {},
   "cell_type": "markdown",
   "metadata": {},
   "source": [
    "##### Remoção de caracteres especiais, numeros e pontuações"
   ]
  },
  {
   "cell_type": "code",
   "execution_count": 171,
   "metadata": {},
   "outputs": [],
   "source": [
    "def pre_processed(text):\n",
    "    characters_1 = re.compile(\"[$.;:!\\'?@,\\\"()\\[\\]]\")\n",
    "    characters_2 = re.compile(\"(<br\\s*/><br\\s*/>)|(\\-)|(\\/)\")\n",
    "    characters_3 = re.compile('[0-9]+')\n",
    "\n",
    "    text = characters_1.sub(\"\", text)\n",
    "    text = characters_2.sub(\" \", text.lower())\n",
    "    text = characters_3.sub(\"\", text)\n",
    "    \n",
    "    return text"
   ]
  },
  {
   "attachments": {},
   "cell_type": "markdown",
   "metadata": {},
   "source": [
    "##### Stop words"
   ]
  },
  {
   "cell_type": "code",
   "execution_count": 170,
   "metadata": {},
   "outputs": [],
   "source": [
    "stop_words = set(stopwords.words('portuguese'))"
   ]
  },
  {
   "attachments": {},
   "cell_type": "markdown",
   "metadata": {},
   "source": [
    "##### Processamento textual usando stemmatização do nltk"
   ]
  },
  {
   "cell_type": "code",
   "execution_count": null,
   "metadata": {},
   "outputs": [],
   "source": [
    "def processing_sw_stemmer(text):\n",
    "    stemmer = RSLPStemmer()\n",
    "    text = pre_processed(text)\n",
    "    text_tokens = word_tokenize(text, language='portuguese') \n",
    "    text_without_sw = [token for token in text_tokens if token not in stop_words]\n",
    "    text_stem = [stemmer.stem(token) for token in text_without_sw]\n",
    "    return text_stem\n",
    "\n",
    "test_stemm = df['review_text'].apply(processing_sw_stemmer)"
   ]
  },
  {
   "attachments": {},
   "cell_type": "markdown",
   "metadata": {},
   "source": [
    "##### Processamento utilizando a lematização do Spacy"
   ]
  },
  {
   "cell_type": "code",
   "execution_count": 152,
   "metadata": {},
   "outputs": [],
   "source": [
    "def processing_sw_lemma(text):\n",
    "    nlp = spacy.load('pt_core_news_sm')\n",
    "    text = pre_processed(text)\n",
    "    text_tokens = word_tokenize(text, language='portuguese') \n",
    "    text_without_sw = [token for token in text_tokens if token not in stop_words]\n",
    "    doc = nlp(str(text_without_sw))\n",
    "    text_lemma = [token.lemma_ for token in doc if token.pos_ == 'NOUN' or token.pos_ == 'ADJ']\n",
    "    return text_lemma\n",
    "\n",
    "test_lemma = df['review_text'].apply(processing_sw_lemma)"
   ]
  },
  {
   "attachments": {},
   "cell_type": "markdown",
   "metadata": {},
   "source": [
    "##### Processamento utilizando a stemmatização do nltk e lematização do Spacy"
   ]
  },
  {
   "cell_type": "code",
   "execution_count": 166,
   "metadata": {},
   "outputs": [],
   "source": [
    "def processing_sw_lemma_stemmer(text):\n",
    "    nlp = spacy.load('pt_core_news_sm')\n",
    "    stemmer = RSLPStemmer()\n",
    "    text = pre_processed(text)\n",
    "    text_tokens = word_tokenize(text, language='portuguese') \n",
    "    text_without_sw = [token for token in text_tokens if token not in stop_words]\n",
    "    doc = nlp(str(text_without_sw))\n",
    "    text_lemma = [token.lemma_ for token in doc]\n",
    "    text_stem = [stemmer.stem(token) for token in text_without_sw]\n",
    "    return text_stem\n",
    "\n",
    "test_lemma_stemm = df['review_text'][0:5].apply(processing_sw_lemma_stemmer)"
   ]
  },
  {
   "cell_type": "code",
   "execution_count": null,
   "metadata": {},
   "outputs": [],
   "source": []
  }
 ],
 "metadata": {
  "kernelspec": {
   "display_name": "apolo",
   "language": "python",
   "name": "python3"
  },
  "language_info": {
   "codemirror_mode": {
    "name": "ipython",
    "version": 3
   },
   "file_extension": ".py",
   "mimetype": "text/x-python",
   "name": "python",
   "nbconvert_exporter": "python",
   "pygments_lexer": "ipython3",
   "version": "3.7.13"
  },
  "orig_nbformat": 4,
  "vscode": {
   "interpreter": {
    "hash": "6a475ba972ba5257029f78105ab8865320a58f758b398affa8152984676405c1"
   }
  }
 },
 "nbformat": 4,
 "nbformat_minor": 2
}
