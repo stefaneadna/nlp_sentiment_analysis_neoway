{
  "cells": [
    {
      "cell_type": "markdown",
      "metadata": {
        "id": "VeIGSnaQOFvN"
      },
      "source": [
        "# Experimentos e testes"
      ]
    },
    {
      "cell_type": "markdown",
      "metadata": {
        "id": "2GKD8UOJOJzO"
      },
      "source": [
        "- Este notebook realiza uma série de experimentos, com o intuito de encontrar os melhores parametros para o projeto das Americanas. Para isso foram realizadas algumas etapas de testes:\n",
        " - Verificar qual a melhor forma de vetorizar os dados. São testados o Doc2Vec e o TF-IDF.\n",
        " - Identificar qual o melhor tipo de pré-processamento textual, são testados a lematização, stemização e lematização+stemização.\n",
        " - O dataset possui duas colunas de dados textuais, sendo uma referente ao titulo e outra ao texto da avaliação do cliente. Com isso, são realizados testes para verificar qual coluna melhor representa o sentimento do cliente.\n",
        " - É realizada a tecnica de GridSearch para encontrar os melhores parametros para os classificadores.\n",
        " - A validação cruzada utilizando o Kfold é utilizada para validar o melhor modelo de classificação. \n",
        "\n",
        "- Este notebook foi execultado utilizando a GPU do Google Colaboratory. Isso porque a base de dados é muito grande e os algoritmos são muito pesados para rodar na minha máquina, podendo demorar dias para sua execução. \n",
        "\n",
        "- Ademais, este notebook importa do google drive um dataset que já foi pré-processado anteriormente utilizando o notebook de nome \"text_processing.ipynb\" que está na pasta de notebooks. "
      ]
    },
    {
      "cell_type": "markdown",
      "metadata": {
        "id": "WD75Ql2sShMY"
      },
      "source": [
        "### Google Colab\n",
        "\n",
        "A celula abaixo só deve ser executada se o notebook estiver rodando no Google Colab. Os códigos abaixo são necessários para possibilitar a execução deste notebook no colab."
      ]
    },
    {
      "cell_type": "code",
      "execution_count": 1,
      "metadata": {
        "colab": {
          "base_uri": "https://localhost:8080/"
        },
        "id": "fsPAToYeTOfi",
        "outputId": "b0b035b0-cb98-4dd0-f6b4-49d82d0a5cad"
      },
      "outputs": [
        {
          "name": "stdout",
          "output_type": "stream",
          "text": [
            "2023-02-28 16:34:10.798264: I tensorflow/core/platform/cpu_feature_guard.cc:193] This TensorFlow binary is optimized with oneAPI Deep Neural Network Library (oneDNN) to use the following CPU instructions in performance-critical operations:  AVX2 AVX512F FMA\n",
            "To enable them in other operations, rebuild TensorFlow with the appropriate compiler flags.\n",
            "2023-02-28 16:34:12.168172: W tensorflow/compiler/xla/stream_executor/platform/default/dso_loader.cc:64] Could not load dynamic library 'libnvinfer.so.7'; dlerror: libnvinfer.so.7: cannot open shared object file: No such file or directory; LD_LIBRARY_PATH: /usr/lib64-nvidia\n",
            "2023-02-28 16:34:12.168309: W tensorflow/compiler/xla/stream_executor/platform/default/dso_loader.cc:64] Could not load dynamic library 'libnvinfer_plugin.so.7'; dlerror: libnvinfer_plugin.so.7: cannot open shared object file: No such file or directory; LD_LIBRARY_PATH: /usr/lib64-nvidia\n",
            "2023-02-28 16:34:12.168334: W tensorflow/compiler/tf2tensorrt/utils/py_utils.cc:38] TF-TRT Warning: Cannot dlopen some TensorRT libraries. If you would like to use Nvidia GPU with TensorRT, please make sure the missing libraries mentioned above are installed properly.\n",
            "Looking in indexes: https://pypi.org/simple, https://us-python.pkg.dev/colab-wheels/public/simple/\n",
            "Collecting pt-core-news-sm==3.4.0\n",
            "  Downloading https://github.com/explosion/spacy-models/releases/download/pt_core_news_sm-3.4.0/pt_core_news_sm-3.4.0-py3-none-any.whl (13.0 MB)\n",
            "\u001b[2K     \u001b[90m━━━━━━━━━━━━━━━━━━━━━━━━━━━━━━━━━━━━━━━━\u001b[0m \u001b[32m13.0/13.0 MB\u001b[0m \u001b[31m20.4 MB/s\u001b[0m eta \u001b[36m0:00:00\u001b[0m\n",
            "\u001b[?25hRequirement already satisfied: spacy<3.5.0,>=3.4.0 in /usr/local/lib/python3.8/dist-packages (from pt-core-news-sm==3.4.0) (3.4.4)\n",
            "Requirement already satisfied: pydantic!=1.8,!=1.8.1,<1.11.0,>=1.7.4 in /usr/local/lib/python3.8/dist-packages (from spacy<3.5.0,>=3.4.0->pt-core-news-sm==3.4.0) (1.10.5)\n",
            "Requirement already satisfied: murmurhash<1.1.0,>=0.28.0 in /usr/local/lib/python3.8/dist-packages (from spacy<3.5.0,>=3.4.0->pt-core-news-sm==3.4.0) (1.0.9)\n",
            "Requirement already satisfied: jinja2 in /usr/local/lib/python3.8/dist-packages (from spacy<3.5.0,>=3.4.0->pt-core-news-sm==3.4.0) (2.11.3)\n",
            "Requirement already satisfied: thinc<8.2.0,>=8.1.0 in /usr/local/lib/python3.8/dist-packages (from spacy<3.5.0,>=3.4.0->pt-core-news-sm==3.4.0) (8.1.7)\n",
            "Requirement already satisfied: cymem<2.1.0,>=2.0.2 in /usr/local/lib/python3.8/dist-packages (from spacy<3.5.0,>=3.4.0->pt-core-news-sm==3.4.0) (2.0.7)\n",
            "Requirement already satisfied: spacy-legacy<3.1.0,>=3.0.10 in /usr/local/lib/python3.8/dist-packages (from spacy<3.5.0,>=3.4.0->pt-core-news-sm==3.4.0) (3.0.12)\n",
            "Requirement already satisfied: wasabi<1.1.0,>=0.9.1 in /usr/local/lib/python3.8/dist-packages (from spacy<3.5.0,>=3.4.0->pt-core-news-sm==3.4.0) (0.10.1)\n",
            "Requirement already satisfied: preshed<3.1.0,>=3.0.2 in /usr/local/lib/python3.8/dist-packages (from spacy<3.5.0,>=3.4.0->pt-core-news-sm==3.4.0) (3.0.8)\n",
            "Requirement already satisfied: numpy>=1.15.0 in /usr/local/lib/python3.8/dist-packages (from spacy<3.5.0,>=3.4.0->pt-core-news-sm==3.4.0) (1.22.4)\n",
            "Requirement already satisfied: spacy-loggers<2.0.0,>=1.0.0 in /usr/local/lib/python3.8/dist-packages (from spacy<3.5.0,>=3.4.0->pt-core-news-sm==3.4.0) (1.0.4)\n",
            "Requirement already satisfied: typer<0.8.0,>=0.3.0 in /usr/local/lib/python3.8/dist-packages (from spacy<3.5.0,>=3.4.0->pt-core-news-sm==3.4.0) (0.7.0)\n",
            "Requirement already satisfied: packaging>=20.0 in /usr/local/lib/python3.8/dist-packages (from spacy<3.5.0,>=3.4.0->pt-core-news-sm==3.4.0) (23.0)\n",
            "Requirement already satisfied: tqdm<5.0.0,>=4.38.0 in /usr/local/lib/python3.8/dist-packages (from spacy<3.5.0,>=3.4.0->pt-core-news-sm==3.4.0) (4.64.1)\n",
            "Requirement already satisfied: srsly<3.0.0,>=2.4.3 in /usr/local/lib/python3.8/dist-packages (from spacy<3.5.0,>=3.4.0->pt-core-news-sm==3.4.0) (2.4.5)\n",
            "Requirement already satisfied: langcodes<4.0.0,>=3.2.0 in /usr/local/lib/python3.8/dist-packages (from spacy<3.5.0,>=3.4.0->pt-core-news-sm==3.4.0) (3.3.0)\n",
            "Requirement already satisfied: catalogue<2.1.0,>=2.0.6 in /usr/local/lib/python3.8/dist-packages (from spacy<3.5.0,>=3.4.0->pt-core-news-sm==3.4.0) (2.0.8)\n",
            "Requirement already satisfied: requests<3.0.0,>=2.13.0 in /usr/local/lib/python3.8/dist-packages (from spacy<3.5.0,>=3.4.0->pt-core-news-sm==3.4.0) (2.25.1)\n",
            "Requirement already satisfied: smart-open<7.0.0,>=5.2.1 in /usr/local/lib/python3.8/dist-packages (from spacy<3.5.0,>=3.4.0->pt-core-news-sm==3.4.0) (6.3.0)\n",
            "Requirement already satisfied: setuptools in /usr/local/lib/python3.8/dist-packages (from spacy<3.5.0,>=3.4.0->pt-core-news-sm==3.4.0) (57.4.0)\n",
            "Requirement already satisfied: pathy>=0.3.5 in /usr/local/lib/python3.8/dist-packages (from spacy<3.5.0,>=3.4.0->pt-core-news-sm==3.4.0) (0.10.1)\n",
            "Requirement already satisfied: typing-extensions>=4.2.0 in /usr/local/lib/python3.8/dist-packages (from pydantic!=1.8,!=1.8.1,<1.11.0,>=1.7.4->spacy<3.5.0,>=3.4.0->pt-core-news-sm==3.4.0) (4.5.0)\n",
            "Requirement already satisfied: certifi>=2017.4.17 in /usr/local/lib/python3.8/dist-packages (from requests<3.0.0,>=2.13.0->spacy<3.5.0,>=3.4.0->pt-core-news-sm==3.4.0) (2022.12.7)\n",
            "Requirement already satisfied: urllib3<1.27,>=1.21.1 in /usr/local/lib/python3.8/dist-packages (from requests<3.0.0,>=2.13.0->spacy<3.5.0,>=3.4.0->pt-core-news-sm==3.4.0) (1.24.3)\n",
            "Requirement already satisfied: idna<3,>=2.5 in /usr/local/lib/python3.8/dist-packages (from requests<3.0.0,>=2.13.0->spacy<3.5.0,>=3.4.0->pt-core-news-sm==3.4.0) (2.10)\n",
            "Requirement already satisfied: chardet<5,>=3.0.2 in /usr/local/lib/python3.8/dist-packages (from requests<3.0.0,>=2.13.0->spacy<3.5.0,>=3.4.0->pt-core-news-sm==3.4.0) (4.0.0)\n",
            "Requirement already satisfied: blis<0.8.0,>=0.7.8 in /usr/local/lib/python3.8/dist-packages (from thinc<8.2.0,>=8.1.0->spacy<3.5.0,>=3.4.0->pt-core-news-sm==3.4.0) (0.7.9)\n",
            "Requirement already satisfied: confection<1.0.0,>=0.0.1 in /usr/local/lib/python3.8/dist-packages (from thinc<8.2.0,>=8.1.0->spacy<3.5.0,>=3.4.0->pt-core-news-sm==3.4.0) (0.0.4)\n",
            "Requirement already satisfied: click<9.0.0,>=7.1.1 in /usr/local/lib/python3.8/dist-packages (from typer<0.8.0,>=0.3.0->spacy<3.5.0,>=3.4.0->pt-core-news-sm==3.4.0) (7.1.2)\n",
            "Requirement already satisfied: MarkupSafe>=0.23 in /usr/local/lib/python3.8/dist-packages (from jinja2->spacy<3.5.0,>=3.4.0->pt-core-news-sm==3.4.0) (2.0.1)\n",
            "\u001b[38;5;2m✔ Download and installation successful\u001b[0m\n",
            "You can now load the package via spacy.load('pt_core_news_sm')\n",
            "Looking in indexes: https://pypi.org/simple, https://us-python.pkg.dev/colab-wheels/public/simple/\n",
            "Requirement already satisfied: gensim==4.2.0 in /usr/local/lib/python3.8/dist-packages (4.2.0)\n",
            "Requirement already satisfied: smart-open>=1.8.1 in /usr/local/lib/python3.8/dist-packages (from gensim==4.2.0) (6.3.0)\n",
            "Requirement already satisfied: scipy>=0.18.1 in /usr/local/lib/python3.8/dist-packages (from gensim==4.2.0) (1.7.3)\n",
            "Requirement already satisfied: numpy>=1.17.0 in /usr/local/lib/python3.8/dist-packages (from gensim==4.2.0) (1.22.4)\n"
          ]
        }
      ],
      "source": [
        "import locale\n",
        "def getpreferredencoding(do_setlocale = True):\n",
        "    return \"UTF-8\"\n",
        "locale.getpreferredencoding = getpreferredencoding\n",
        "\n",
        "!python3 -m spacy download pt_core_news_sm\n",
        "!pip install gensim==4.2.0"
      ]
    },
    {
      "cell_type": "code",
      "execution_count": 2,
      "metadata": {
        "colab": {
          "base_uri": "https://localhost:8080/"
        },
        "id": "u9Et0nq2sjIr",
        "outputId": "78f5ba3a-6f32-48c9-a369-ba9eae7cca9e"
      },
      "outputs": [
        {
          "name": "stdout",
          "output_type": "stream",
          "text": [
            "Drive already mounted at /content/drive; to attempt to forcibly remount, call drive.mount(\"/content/drive\", force_remount=True).\n"
          ]
        }
      ],
      "source": [
        "#Para acessar as imagens do Drive\n",
        "from google.colab import drive\n",
        "drive.mount('/content/drive')"
      ]
    },
    {
      "cell_type": "markdown",
      "metadata": {
        "id": "_69KbXCEOSD7"
      },
      "source": [
        "### Dataset"
      ]
    },
    {
      "cell_type": "code",
      "execution_count": 19,
      "metadata": {
        "id": "XV20hIpdShMc"
      },
      "outputs": [],
      "source": [
        "import pandas as pd\n",
        "from sklearn.model_selection import train_test_split, KFold, cross_val_score, cross_val_predict,StratifiedKFold\n",
        "from sklearn.feature_extraction.text import TfidfTransformer, CountVectorizer, TfidfVectorizer\n",
        "from sklearn.linear_model import LogisticRegression\n",
        "from sklearn.metrics import f1_score, precision_score, recall_score, accuracy_score, classification_report,cohen_kappa_score,confusion_matrix\n",
        "from sklearn.preprocessing import StandardScaler\n",
        "#from gensim.models import Word2Vec, Doc2Vec\n",
        "from gensim.models.callbacks import CallbackAny2Vec\n",
        "from sklearn.neural_network import MLPClassifier\n",
        "from sklearn.ensemble import RandomForestClassifier\n",
        "from tqdm import tqdm\n",
        "from sklearn.model_selection import GridSearchCV\n",
        "import numpy as np\n",
        "import pickle\n",
        "from sklearn.ensemble import VotingClassifier,BaggingClassifier\n",
        "from IPython.display import Markdown\n",
        "from sklearn.naive_bayes import BernoulliNB\n",
        "from gensim.models.doc2vec import TaggedDocument, Doc2Vec\n",
        "from IPython.display import Markdown\n",
        "import seaborn as sns\n",
        "from sklearn.neighbors import KNeighborsClassifier\n",
        "pd.set_option(\"display.max_rows\", 5)\n",
        "pd.set_option('display.max_columns',100)\n",
        "import matplotlib.pyplot as plt"
      ]
    },
    {
      "cell_type": "markdown",
      "metadata": {
        "id": "vTqyMwiLRaXL"
      },
      "source": [
        "Carrega o dataset já pré-processado do drive."
      ]
    },
    {
      "cell_type": "code",
      "execution_count": 84,
      "metadata": {
        "colab": {
          "base_uri": "https://localhost:8080/",
          "height": 704
        },
        "id": "JhVlZ32nShMe",
        "outputId": "5317a85b-9b6e-42d1-c198-5bdbde05b013"
      },
      "outputs": [
        {
          "data": {
            "text/html": [
              "\n",
              "  <div id=\"df-64a08cc5-db58-429f-8de8-ffd3646ad31a\">\n",
              "    <div class=\"colab-df-container\">\n",
              "      <div>\n",
              "<style scoped>\n",
              "    .dataframe tbody tr th:only-of-type {\n",
              "        vertical-align: middle;\n",
              "    }\n",
              "\n",
              "    .dataframe tbody tr th {\n",
              "        vertical-align: top;\n",
              "    }\n",
              "\n",
              "    .dataframe thead th {\n",
              "        text-align: right;\n",
              "    }\n",
              "</style>\n",
              "<table border=\"1\" class=\"dataframe\">\n",
              "  <thead>\n",
              "    <tr style=\"text-align: right;\">\n",
              "      <th></th>\n",
              "      <th>Unnamed: 0</th>\n",
              "      <th>Unnamed: 0.1</th>\n",
              "      <th>index</th>\n",
              "      <th>Unnamed: 0.1.1</th>\n",
              "      <th>submission_date</th>\n",
              "      <th>reviewer_id</th>\n",
              "      <th>product_id</th>\n",
              "      <th>product_name</th>\n",
              "      <th>product_brand</th>\n",
              "      <th>site_category_lv1</th>\n",
              "      <th>site_category_lv2</th>\n",
              "      <th>review_title</th>\n",
              "      <th>overall_rating</th>\n",
              "      <th>recommend_to_a_friend</th>\n",
              "      <th>review_text</th>\n",
              "      <th>reviewer_birth_year</th>\n",
              "      <th>reviewer_gender</th>\n",
              "      <th>reviewer_state</th>\n",
              "      <th>recommend_to_a_friend_cat</th>\n",
              "      <th>text_stem</th>\n",
              "      <th>text_lemma</th>\n",
              "      <th>text_lemma_stem</th>\n",
              "      <th>title_stem</th>\n",
              "      <th>title_lemma</th>\n",
              "      <th>title_lemma_stem</th>\n",
              "    </tr>\n",
              "  </thead>\n",
              "  <tbody>\n",
              "    <tr>\n",
              "      <th>22115</th>\n",
              "      <td>22115</td>\n",
              "      <td>22115</td>\n",
              "      <td>23591</td>\n",
              "      <td>23591</td>\n",
              "      <td>2018-01-18 13:22:52</td>\n",
              "      <td>2f115443cb32ae87c90bfd6a4b4a540c6a685b624e2d81...</td>\n",
              "      <td>26164187</td>\n",
              "      <td>Casa Casinha De Boneca Polly Com 27 Mini Móvei...</td>\n",
              "      <td>NaN</td>\n",
              "      <td>Brinquedos</td>\n",
              "      <td>Bonecas</td>\n",
              "      <td>gostei muito</td>\n",
              "      <td>5</td>\n",
              "      <td>Yes</td>\n",
              "      <td>O produto é igual ao que foi anunciado, e cheg...</td>\n",
              "      <td>1982</td>\n",
              "      <td>F</td>\n",
              "      <td>RS</td>\n",
              "      <td>1</td>\n",
              "      <td>['produt', 'igual', 'anunci', 'cheg', 'quas', ...</td>\n",
              "      <td>['produto', 'igual', 'anunciar', 'chegar', 'qu...</td>\n",
              "      <td>['produt', 'igual', 'anunci', 'cheg', 'quas', ...</td>\n",
              "      <td>['gost']</td>\n",
              "      <td>['gostar']</td>\n",
              "      <td>['gost']</td>\n",
              "    </tr>\n",
              "    <tr>\n",
              "      <th>27310</th>\n",
              "      <td>27310</td>\n",
              "      <td>27310</td>\n",
              "      <td>29089</td>\n",
              "      <td>29089</td>\n",
              "      <td>2018-01-24 06:38:11</td>\n",
              "      <td>3cd184cdc8e8f02622aefa14a1970e7e35fdbfc1d6e710...</td>\n",
              "      <td>113174007</td>\n",
              "      <td>Secador Infinity 2500 SC-12 Preto / Vermelho  ...</td>\n",
              "      <td>mondial</td>\n",
              "      <td>Beleza e Perfumaria</td>\n",
              "      <td>Aparelhos elétricos para cabelo</td>\n",
              "      <td>PRODUTO DE BOA QUALIDADE</td>\n",
              "      <td>4</td>\n",
              "      <td>Yes</td>\n",
              "      <td>GOSTEI MUITO DO PRODUTO! CHEGOU TUDO CERTINHO ...</td>\n",
              "      <td>1983</td>\n",
              "      <td>F</td>\n",
              "      <td>DF</td>\n",
              "      <td>1</td>\n",
              "      <td>['gost', 'produt', 'cheg', 'tud', 'cert', 'pou...</td>\n",
              "      <td>['gostar', 'produto', 'chegar', 'tudo', 'certi...</td>\n",
              "      <td>['gost', 'produt', 'cheg', 'tud', 'cert', 'pou...</td>\n",
              "      <td>['produt', 'boa', 'qual']</td>\n",
              "      <td>['produto', 'bom', 'qualidade']</td>\n",
              "      <td>['produt', 'bom', 'qual']</td>\n",
              "    </tr>\n",
              "    <tr>\n",
              "      <th>35706</th>\n",
              "      <td>35706</td>\n",
              "      <td>35706</td>\n",
              "      <td>38050</td>\n",
              "      <td>38050</td>\n",
              "      <td>2018-02-08 17:44:28</td>\n",
              "      <td>04af1cd6f620a471d8add3993163dda2cef20d4c216c95...</td>\n",
              "      <td>9640569</td>\n",
              "      <td>Relógio Invicta Masculino 0072 Pro Diver 48mm ...</td>\n",
              "      <td>NaN</td>\n",
              "      <td>Relógios</td>\n",
              "      <td>Relógios</td>\n",
              "      <td>pergunta</td>\n",
              "      <td>3</td>\n",
              "      <td>No</td>\n",
              "      <td>queria saber se este produto tem garantia ? po...</td>\n",
              "      <td>1999</td>\n",
              "      <td>M</td>\n",
              "      <td>BA</td>\n",
              "      <td>0</td>\n",
              "      <td>['quer', 'sab', 'produt', 'garant', 'poi', 'qu...</td>\n",
              "      <td>['querer', 'saber', 'produto', 'garantia', 'po...</td>\n",
              "      <td>['quer', 'sab', 'produt', 'garant', 'poi', 'qu...</td>\n",
              "      <td>['pergunt']</td>\n",
              "      <td>['perguntar']</td>\n",
              "      <td>['pergunt']</td>\n",
              "    </tr>\n",
              "    <tr>\n",
              "      <th>395</th>\n",
              "      <td>395</td>\n",
              "      <td>395</td>\n",
              "      <td>416</td>\n",
              "      <td>416</td>\n",
              "      <td>2018-01-01 13:26:25</td>\n",
              "      <td>686dfea5aa6771e050183897d232cae74a93bb50b3ff78...</td>\n",
              "      <td>125215742</td>\n",
              "      <td>Liquidificador Philco PH900 2L 12 Velocidades ...</td>\n",
              "      <td>philco</td>\n",
              "      <td>Eletroportáteis</td>\n",
              "      <td>Liquidificador e Acessórios</td>\n",
              "      <td>Nota 1.000</td>\n",
              "      <td>5</td>\n",
              "      <td>Yes</td>\n",
              "      <td>Amei lindo e muito bom recomendo a entrega foi...</td>\n",
              "      <td>1967</td>\n",
              "      <td>F</td>\n",
              "      <td>SP</td>\n",
              "      <td>1</td>\n",
              "      <td>['ame', 'lind', 'bom', 'recom', 'entreg', 'rap...</td>\n",
              "      <td>['ameir', 'lir', 'bom', 'recomendar', 'entrega...</td>\n",
              "      <td>['ame', 'lir', 'bom', 'recomend', 'entreg', 'r...</td>\n",
              "      <td>['not']</td>\n",
              "      <td>['nota']</td>\n",
              "      <td>['not']</td>\n",
              "    </tr>\n",
              "    <tr>\n",
              "      <th>37912</th>\n",
              "      <td>37912</td>\n",
              "      <td>37912</td>\n",
              "      <td>40431</td>\n",
              "      <td>40431</td>\n",
              "      <td>2018-02-19 10:02:22</td>\n",
              "      <td>650033cd3a79235565c5e84c68571c4e5f622e7d50fd04...</td>\n",
              "      <td>27505060</td>\n",
              "      <td>Sofá 4 Lugares Portinari Retrátil e Reclinável...</td>\n",
              "      <td>NaN</td>\n",
              "      <td>Móveis</td>\n",
              "      <td>Sofá</td>\n",
              "      <td>Muito satisfeita!</td>\n",
              "      <td>5</td>\n",
              "      <td>Yes</td>\n",
              "      <td>Sofá excelente ótimo  acabamento, muito macio,...</td>\n",
              "      <td>1986</td>\n",
              "      <td>F</td>\n",
              "      <td>SP</td>\n",
              "      <td>1</td>\n",
              "      <td>['sof', 'excel', 'ótim', 'acab', 'maci', 'conf...</td>\n",
              "      <td>['sofá', 'excelente', 'bom', 'acabamento', 'ma...</td>\n",
              "      <td>['sof', 'excel', 'bom', 'acab', 'maci', 'confo...</td>\n",
              "      <td>['satisfeit']</td>\n",
              "      <td>['satisfeita']</td>\n",
              "      <td>['satisfeit']</td>\n",
              "    </tr>\n",
              "  </tbody>\n",
              "</table>\n",
              "</div>\n",
              "      <button class=\"colab-df-convert\" onclick=\"convertToInteractive('df-64a08cc5-db58-429f-8de8-ffd3646ad31a')\"\n",
              "              title=\"Convert this dataframe to an interactive table.\"\n",
              "              style=\"display:none;\">\n",
              "        \n",
              "  <svg xmlns=\"http://www.w3.org/2000/svg\" height=\"24px\"viewBox=\"0 0 24 24\"\n",
              "       width=\"24px\">\n",
              "    <path d=\"M0 0h24v24H0V0z\" fill=\"none\"/>\n",
              "    <path d=\"M18.56 5.44l.94 2.06.94-2.06 2.06-.94-2.06-.94-.94-2.06-.94 2.06-2.06.94zm-11 1L8.5 8.5l.94-2.06 2.06-.94-2.06-.94L8.5 2.5l-.94 2.06-2.06.94zm10 10l.94 2.06.94-2.06 2.06-.94-2.06-.94-.94-2.06-.94 2.06-2.06.94z\"/><path d=\"M17.41 7.96l-1.37-1.37c-.4-.4-.92-.59-1.43-.59-.52 0-1.04.2-1.43.59L10.3 9.45l-7.72 7.72c-.78.78-.78 2.05 0 2.83L4 21.41c.39.39.9.59 1.41.59.51 0 1.02-.2 1.41-.59l7.78-7.78 2.81-2.81c.8-.78.8-2.07 0-2.86zM5.41 20L4 18.59l7.72-7.72 1.47 1.35L5.41 20z\"/>\n",
              "  </svg>\n",
              "      </button>\n",
              "      \n",
              "  <style>\n",
              "    .colab-df-container {\n",
              "      display:flex;\n",
              "      flex-wrap:wrap;\n",
              "      gap: 12px;\n",
              "    }\n",
              "\n",
              "    .colab-df-convert {\n",
              "      background-color: #E8F0FE;\n",
              "      border: none;\n",
              "      border-radius: 50%;\n",
              "      cursor: pointer;\n",
              "      display: none;\n",
              "      fill: #1967D2;\n",
              "      height: 32px;\n",
              "      padding: 0 0 0 0;\n",
              "      width: 32px;\n",
              "    }\n",
              "\n",
              "    .colab-df-convert:hover {\n",
              "      background-color: #E2EBFA;\n",
              "      box-shadow: 0px 1px 2px rgba(60, 64, 67, 0.3), 0px 1px 3px 1px rgba(60, 64, 67, 0.15);\n",
              "      fill: #174EA6;\n",
              "    }\n",
              "\n",
              "    [theme=dark] .colab-df-convert {\n",
              "      background-color: #3B4455;\n",
              "      fill: #D2E3FC;\n",
              "    }\n",
              "\n",
              "    [theme=dark] .colab-df-convert:hover {\n",
              "      background-color: #434B5C;\n",
              "      box-shadow: 0px 1px 3px 1px rgba(0, 0, 0, 0.15);\n",
              "      filter: drop-shadow(0px 1px 2px rgba(0, 0, 0, 0.3));\n",
              "      fill: #FFFFFF;\n",
              "    }\n",
              "  </style>\n",
              "\n",
              "      <script>\n",
              "        const buttonEl =\n",
              "          document.querySelector('#df-64a08cc5-db58-429f-8de8-ffd3646ad31a button.colab-df-convert');\n",
              "        buttonEl.style.display =\n",
              "          google.colab.kernel.accessAllowed ? 'block' : 'none';\n",
              "\n",
              "        async function convertToInteractive(key) {\n",
              "          const element = document.querySelector('#df-64a08cc5-db58-429f-8de8-ffd3646ad31a');\n",
              "          const dataTable =\n",
              "            await google.colab.kernel.invokeFunction('convertToInteractive',\n",
              "                                                     [key], {});\n",
              "          if (!dataTable) return;\n",
              "\n",
              "          const docLinkHtml = 'Like what you see? Visit the ' +\n",
              "            '<a target=\"_blank\" href=https://colab.research.google.com/notebooks/data_table.ipynb>data table notebook</a>'\n",
              "            + ' to learn more about interactive tables.';\n",
              "          element.innerHTML = '';\n",
              "          dataTable['output_type'] = 'display_data';\n",
              "          await google.colab.output.renderOutput(dataTable, element);\n",
              "          const docLink = document.createElement('div');\n",
              "          docLink.innerHTML = docLinkHtml;\n",
              "          element.appendChild(docLink);\n",
              "        }\n",
              "      </script>\n",
              "    </div>\n",
              "  </div>\n",
              "  "
            ],
            "text/plain": [
              "       Unnamed: 0  Unnamed: 0.1  index  Unnamed: 0.1.1      submission_date  \\\n",
              "22115       22115         22115  23591           23591  2018-01-18 13:22:52   \n",
              "27310       27310         27310  29089           29089  2018-01-24 06:38:11   \n",
              "35706       35706         35706  38050           38050  2018-02-08 17:44:28   \n",
              "395           395           395    416             416  2018-01-01 13:26:25   \n",
              "37912       37912         37912  40431           40431  2018-02-19 10:02:22   \n",
              "\n",
              "                                             reviewer_id  product_id  \\\n",
              "22115  2f115443cb32ae87c90bfd6a4b4a540c6a685b624e2d81...    26164187   \n",
              "27310  3cd184cdc8e8f02622aefa14a1970e7e35fdbfc1d6e710...   113174007   \n",
              "35706  04af1cd6f620a471d8add3993163dda2cef20d4c216c95...     9640569   \n",
              "395    686dfea5aa6771e050183897d232cae74a93bb50b3ff78...   125215742   \n",
              "37912  650033cd3a79235565c5e84c68571c4e5f622e7d50fd04...    27505060   \n",
              "\n",
              "                                            product_name product_brand  \\\n",
              "22115  Casa Casinha De Boneca Polly Com 27 Mini Móvei...           NaN   \n",
              "27310  Secador Infinity 2500 SC-12 Preto / Vermelho  ...       mondial   \n",
              "35706  Relógio Invicta Masculino 0072 Pro Diver 48mm ...           NaN   \n",
              "395    Liquidificador Philco PH900 2L 12 Velocidades ...        philco   \n",
              "37912  Sofá 4 Lugares Portinari Retrátil e Reclinável...           NaN   \n",
              "\n",
              "         site_category_lv1                site_category_lv2  \\\n",
              "22115           Brinquedos                          Bonecas   \n",
              "27310  Beleza e Perfumaria  Aparelhos elétricos para cabelo   \n",
              "35706             Relógios                         Relógios   \n",
              "395        Eletroportáteis      Liquidificador e Acessórios   \n",
              "37912               Móveis                             Sofá   \n",
              "\n",
              "                   review_title  overall_rating recommend_to_a_friend  \\\n",
              "22115              gostei muito               5                   Yes   \n",
              "27310  PRODUTO DE BOA QUALIDADE               4                   Yes   \n",
              "35706                  pergunta               3                    No   \n",
              "395                  Nota 1.000               5                   Yes   \n",
              "37912         Muito satisfeita!               5                   Yes   \n",
              "\n",
              "                                             review_text  reviewer_birth_year  \\\n",
              "22115  O produto é igual ao que foi anunciado, e cheg...                 1982   \n",
              "27310  GOSTEI MUITO DO PRODUTO! CHEGOU TUDO CERTINHO ...                 1983   \n",
              "35706  queria saber se este produto tem garantia ? po...                 1999   \n",
              "395    Amei lindo e muito bom recomendo a entrega foi...                 1967   \n",
              "37912  Sofá excelente ótimo  acabamento, muito macio,...                 1986   \n",
              "\n",
              "      reviewer_gender reviewer_state  recommend_to_a_friend_cat  \\\n",
              "22115               F             RS                          1   \n",
              "27310               F             DF                          1   \n",
              "35706               M             BA                          0   \n",
              "395                 F             SP                          1   \n",
              "37912               F             SP                          1   \n",
              "\n",
              "                                               text_stem  \\\n",
              "22115  ['produt', 'igual', 'anunci', 'cheg', 'quas', ...   \n",
              "27310  ['gost', 'produt', 'cheg', 'tud', 'cert', 'pou...   \n",
              "35706  ['quer', 'sab', 'produt', 'garant', 'poi', 'qu...   \n",
              "395    ['ame', 'lind', 'bom', 'recom', 'entreg', 'rap...   \n",
              "37912  ['sof', 'excel', 'ótim', 'acab', 'maci', 'conf...   \n",
              "\n",
              "                                              text_lemma  \\\n",
              "22115  ['produto', 'igual', 'anunciar', 'chegar', 'qu...   \n",
              "27310  ['gostar', 'produto', 'chegar', 'tudo', 'certi...   \n",
              "35706  ['querer', 'saber', 'produto', 'garantia', 'po...   \n",
              "395    ['ameir', 'lir', 'bom', 'recomendar', 'entrega...   \n",
              "37912  ['sofá', 'excelente', 'bom', 'acabamento', 'ma...   \n",
              "\n",
              "                                         text_lemma_stem  \\\n",
              "22115  ['produt', 'igual', 'anunci', 'cheg', 'quas', ...   \n",
              "27310  ['gost', 'produt', 'cheg', 'tud', 'cert', 'pou...   \n",
              "35706  ['quer', 'sab', 'produt', 'garant', 'poi', 'qu...   \n",
              "395    ['ame', 'lir', 'bom', 'recomend', 'entreg', 'r...   \n",
              "37912  ['sof', 'excel', 'bom', 'acab', 'maci', 'confo...   \n",
              "\n",
              "                      title_stem                      title_lemma  \\\n",
              "22115                   ['gost']                       ['gostar']   \n",
              "27310  ['produt', 'boa', 'qual']  ['produto', 'bom', 'qualidade']   \n",
              "35706                ['pergunt']                    ['perguntar']   \n",
              "395                      ['not']                         ['nota']   \n",
              "37912              ['satisfeit']                   ['satisfeita']   \n",
              "\n",
              "                title_lemma_stem  \n",
              "22115                   ['gost']  \n",
              "27310  ['produt', 'bom', 'qual']  \n",
              "35706                ['pergunt']  \n",
              "395                      ['not']  \n",
              "37912              ['satisfeit']  "
            ]
          },
          "metadata": {},
          "output_type": "display_data"
        }
      ],
      "source": [
        "df = pd.read_csv(r\"drive/My Drive/stefane/neoway/dataset/B2W-Reviews01_edit.csv\")\n",
        "display(df.sample(5))"
      ]
    },
    {
      "cell_type": "markdown",
      "metadata": {
        "id": "PmqegvxbShMk"
      },
      "source": [
        "## Vetorização com tfidf\n",
        " - Realiza a vetorização utilizando o TF-IDF.\n",
        " - Testa a normalização dos dados utilizando o StandartScaler\n",
        " - Para testes iniciais é utilizada a coluna 'text_stem' do dataset. Esta coluna tem dados textuais pré-processados utilizando stemização.\n",
        " - Os dados são divididos em treino e teste, sempre com o random_state = 42, para que sejam sempre divididos da mesma forma.\n",
        " - Os dados são divididos em 80% para treinamento e 20% para teste."
      ]
    },
    {
      "cell_type": "code",
      "execution_count": 71,
      "metadata": {
        "id": "xn0igxnS8656"
      },
      "outputs": [],
      "source": [
        "data = df.copy()\n",
        "data['text_stem'] = data['text_stem'].apply(eval)\n",
        "X = data['text_stem']\n",
        "y = data['recommend_to_a_friend_cat']\n",
        "X_train, X_test, y_train, y_test = train_test_split(X, y, test_size = 0.2, random_state = 42,stratify=y)"
      ]
    },
    {
      "cell_type": "markdown",
      "metadata": {
        "id": "CE9_HEQFV39b"
      },
      "source": [
        "Função para o TF-IDF"
      ]
    },
    {
      "cell_type": "code",
      "execution_count": 6,
      "metadata": {
        "id": "7cgOG2daV7Iz"
      },
      "outputs": [],
      "source": [
        "def vetorizer_tfidf(X_train,X_test):\n",
        "    \"\"\"Utiliza o TF-IDF para vetorizar um texto, calculando a frequencia das palavras em um texto\n",
        "\n",
        "    Args:\n",
        "        X_train (array): Uma lista contendo os dados para treinamento.\n",
        "        X_test (array): Uma lista contendo os dados para teste.\n",
        "\n",
        "    Returns:\n",
        "        X_train (array): Dataset de treinamento vetorizado com o TF-IDF\n",
        "        X_test (array): Dataset de teste vetorizado com o TF-IDF\n",
        "    \"\"\"\n",
        "    vetorizer = CountVectorizer()\n",
        "    X_train = vetorizer.fit_transform(X_train.map(' '.join))\n",
        "    X_test = vetorizer.transform(X_test.map(' '.join))\n",
        "\n",
        "    transformer = TfidfTransformer()\n",
        "    X_train = transformer.fit_transform(X_train)\n",
        "    X_test = transformer.transform(X_test)\n",
        "\n",
        "    return X_train, X_test"
      ]
    },
    {
      "cell_type": "markdown",
      "metadata": {
        "id": "z7RNhjBXV9m_"
      },
      "source": [
        "Função para a normalização"
      ]
    },
    {
      "cell_type": "code",
      "execution_count": 7,
      "metadata": {
        "id": "rU61PfSiWBVo"
      },
      "outputs": [],
      "source": [
        "def scaler(X_train,X_test):\n",
        "    \"\"\"Utiliza o StandardScaler para normalizar os dados.\n",
        "\n",
        "    Args:\n",
        "        X_train (array): Uma lista contendo os dados para treinamento.\n",
        "        X_test (array): Uma lista contendo os dados para teste.\n",
        "\n",
        "    Returns:\n",
        "        X_train (array): Dataset de treinamento normalizados.\n",
        "        X_test (array): Dataset de teste normalizados.\n",
        "    \"\"\"\n",
        "    scaler = StandardScaler(with_mean=False).fit(X_train)\n",
        "    X_train = scaler.transform(X_train)\n",
        "    X_test = scaler.transform(X_test)\n",
        "    return X_train, X_test"
      ]
    },
    {
      "cell_type": "markdown",
      "metadata": {
        "id": "qpOsZIzkWH9k"
      },
      "source": [
        "Função para plotar a matriz de confusão"
      ]
    },
    {
      "cell_type": "code",
      "execution_count": 8,
      "metadata": {
        "id": "rmtnJsboWK9T"
      },
      "outputs": [],
      "source": [
        "def matrix(matrix):\n",
        "    \"\"\"Plota uma matriz de confusão\n",
        "\n",
        "    Args:\n",
        "        matrix (array): Um Array referente a uma matriz de confusão de 2x2\n",
        "    \"\"\"\n",
        "    plt.figure(figsize=(5,5))\n",
        "    fig, ax = plt.subplots()\n",
        "    sns.heatmap(matrix, annot=True, fmt=\"\", cmap=\"Blues\")\n",
        "    ax.set_xticklabels(['Ruim', 'Bom'])\n",
        "    ax.set_yticklabels(['Ruim', 'Bom'])\n",
        "    ax.set_xlabel(\"Predicted Label\")\n",
        "    ax.set_ylabel(\"True Label\")\n",
        "    ax.set_title(\"Reviews\")"
      ]
    },
    {
      "cell_type": "markdown",
      "metadata": {
        "id": "p-RON7pzWRmA"
      },
      "source": [
        "Dois testes são realizados, sendo eles:\n",
        "- Utilizando apenas o TF-IDF\n",
        "- Utilizando o TF-IDF + normalização"
      ]
    },
    {
      "cell_type": "code",
      "execution_count": 9,
      "metadata": {
        "colab": {
          "base_uri": "https://localhost:8080/",
          "height": 353
        },
        "id": "RRZXj84e60Ah",
        "outputId": "42e1a594-565c-43a7-c1d6-6cd0b85a4984"
      },
      "outputs": [
        {
          "data": {
            "text/markdown": [
              "###Acurácia utilizando LogisticRegression e TFIDF: 90.19%"
            ],
            "text/plain": [
              "<IPython.core.display.Markdown object>"
            ]
          },
          "metadata": {},
          "output_type": "display_data"
        },
        {
          "data": {
            "text/plain": [
              "<Figure size 360x360 with 0 Axes>"
            ]
          },
          "metadata": {},
          "output_type": "display_data"
        },
        {
          "data": {
            "image/png": "[encoded data removed]",
            "text/plain": [
              "<Figure size 432x288 with 2 Axes>"
            ]
          },
          "metadata": {
            "needs_background": "light"
          },
          "output_type": "display_data"
        }
      ],
      "source": [
        "#Vetoriza com o TF-IDF\n",
        "X_train_tfidf, X_test_tfidf = vetorizer_tfidf(X_train,X_test)\n",
        "\n",
        "#Treina o classificador\n",
        "model_LR = LogisticRegression(solver='lbfgs', max_iter=500,random_state=42)\n",
        "model_LR = model_LR.fit(X_train_tfidf, y_train)\n",
        "\n",
        "#Plota os resultados\n",
        "pred_LR = model_LR.predict(X_test_tfidf)\n",
        "acc = accuracy_score(y_test,pred_LR) * 100\n",
        "display(Markdown(f\"###Acurácia utilizando LogisticRegression e TFIDF: {acc}%\"))\n",
        "matrix(confusion_matrix(y_test, pred_LR))"
      ]
    },
    {
      "cell_type": "code",
      "execution_count": 10,
      "metadata": {
        "colab": {
          "base_uri": "https://localhost:8080/",
          "height": 353
        },
        "id": "6YU33-0AWuTP",
        "outputId": "4364ea6d-bf84-4883-ee82-73447d047eb5"
      },
      "outputs": [
        {
          "data": {
            "text/markdown": [
              "###Acurácia utilizando LogisticRegression e TFIDF + normalização: 85.8%"
            ],
            "text/plain": [
              "<IPython.core.display.Markdown object>"
            ]
          },
          "metadata": {},
          "output_type": "display_data"
        },
        {
          "data": {
            "text/plain": [
              "<Figure size 360x360 with 0 Axes>"
            ]
          },
          "metadata": {},
          "output_type": "display_data"
        },
        {
          "data": {
            "image/png": "[encoded data removed]",
            "text/plain": [
              "<Figure size 432x288 with 2 Axes>"
            ]
          },
          "metadata": {
            "needs_background": "light"
          },
          "output_type": "display_data"
        }
      ],
      "source": [
        "#Vetoriza e normaliza\n",
        "X_train_tfidf, X_test_tfidf = vetorizer_tfidf(X_train,X_test)\n",
        "X_train_tfidf, X_test_tfidf = scaler(X_train_tfidf, X_test_tfidf)\n",
        "\n",
        "#Treina o classificador\n",
        "model_LR = LogisticRegression(solver='lbfgs', max_iter=500,random_state=42)\n",
        "model_LR = model_LR.fit(X_train_tfidf, y_train)\n",
        "\n",
        "#Plota os resultados\n",
        "pred_LR = model_LR.predict(X_test_tfidf)\n",
        "acc = accuracy_score(y_test,pred_LR) * 100\n",
        "display(Markdown(f\"###Acurácia utilizando LogisticRegression e TFIDF + normalização: {acc}%\"))\n",
        "matrix(confusion_matrix(y_test, pred_LR))"
      ]
    },
    {
      "cell_type": "markdown",
      "metadata": {
        "id": "iSeLR0EEXMps"
      },
      "source": [
        "Após esta analise fica claro que é mais eficiente utilizar apenas o TF-IDF sem a normalização."
      ]
    },
    {
      "cell_type": "markdown",
      "metadata": {
        "id": "LB8gQxOm747W"
      },
      "source": [
        "## Vetorização com Doc2Vec\n",
        "- Utiliza o Doc2Vec para vetorizar as frases.\n",
        "- Salva o modelo em um path especifico."
      ]
    },
    {
      "cell_type": "markdown",
      "metadata": {
        "id": "yzGMQ1SmZbR3"
      },
      "source": [
        "Função para o CallBack do Doc2vec."
      ]
    },
    {
      "cell_type": "code",
      "execution_count": 11,
      "metadata": {
        "id": "NiDHTKKAMgzk"
      },
      "outputs": [],
      "source": [
        "class Loss(CallbackAny2Vec):\n",
        "    \"\"\"Utilizada para fazer o callback do Doc2vec\n",
        "\n",
        "    Args:\n",
        "        CallbackAny2Vec (callbacks)\n",
        "    \"\"\"\n",
        "    def __init__(self, num_epochs):\n",
        "        \"\"\"Metodo construtor da classe Loss\n",
        "\n",
        "        Args:\n",
        "            num_epochs (int): Número de epocas para treinamento do modelo\n",
        "        \"\"\"\n",
        "        self.verbose = tqdm(range(num_epochs), desc='Training Doc2Vec')\n",
        "        self.epoch = 1\n",
        "        self.loss = []\n",
        "        self.loss_prev_step = None\n",
        "\n",
        "    def on_epoch_end(self, model):\n",
        "        \"\"\" Imprime o verbose\n",
        "\n",
        "        Args:\n",
        "            model (doc2vec): Modelo de treinamento do Doc2vec\n",
        "        \"\"\"\n",
        "        if self.epoch == 1:\n",
        "            current_loss = model.get_latest_training_loss()\n",
        "        else:\n",
        "            current_loss = model.get_latest_training_loss() - self.loss_previous_step\n",
        "        \n",
        "        self.loss.append(current_loss)\n",
        "        self.loss_previous_step = model.get_latest_training_loss()\n",
        "        self.epoch += 1\n",
        "\n",
        "        self.verbose.set_postfix(loss=current_loss)\n",
        "        self.verbose.update(1)\n"
      ]
    },
    {
      "cell_type": "markdown",
      "metadata": {
        "id": "8Wi1wIyOYf-6"
      },
      "source": [
        "Função para treinamento do modelo Doc2Vec."
      ]
    },
    {
      "cell_type": "code",
      "execution_count": 12,
      "metadata": {
        "id": "txGyE-CQ2NJN"
      },
      "outputs": [],
      "source": [
        "def fit_doc2vec(texts,embedding_size, num_iter=int(5e+3)):\n",
        "    \"\"\"Treina o modelo Doc2Vec\n",
        "\n",
        "    Args:\n",
        "        texts (array): Dataset textual para treinamento.\n",
        "        embedding_size (int): Tamanho do embedding.\n",
        "        num_iter (int, optional): Numero de epocas para treinamento do modelo. Defaults to int(5e+3).\n",
        "\n",
        "    Returns:\n",
        "        doc2vec: Modelo Doc2Vec treinado.\n",
        "    \"\"\"\n",
        "    texts = [TaggedDocument(text, tags=[i]) for i,text in enumerate(texts)]\n",
        "    loss = Loss(num_iter)\n",
        "    model = Doc2Vec(\n",
        "        vector_size=embedding_size,\n",
        "        window=5,\n",
        "        min_count=1,\n",
        "        min_alpha=1e-4,\n",
        "        epochs=num_iter,\n",
        "        callbacks=[loss]\n",
        "    )\n",
        "    model.build_vocab(texts)\n",
        "    model.train(texts, total_examples=model.corpus_count, epochs=model.epochs,callbacks = [loss] )\n",
        "    return model"
      ]
    },
    {
      "cell_type": "markdown",
      "metadata": {
        "id": "a2SyqaE7Zy9e"
      },
      "source": [
        "Treina e salva o modelo do doc2vec"
      ]
    },
    {
      "cell_type": "code",
      "execution_count": 16,
      "metadata": {
        "id": "EGZhfhdh3DR9"
      },
      "outputs": [],
      "source": [
        "path_model = r\"drive/My Drive/stefane/neoway/dataset/d2v.model\"\n",
        "model = fit_doc2vec(X_train,128, num_iter=3000)\n",
        "model.save(path_model)"
      ]
    },
    {
      "cell_type": "markdown",
      "metadata": {
        "id": "CltQkKXZ2wKZ"
      },
      "source": [
        "Vetoriza utilizando o doc2vec"
      ]
    },
    {
      "cell_type": "code",
      "execution_count": 17,
      "metadata": {
        "id": "oqm2Mjuf4UF3"
      },
      "outputs": [],
      "source": [
        "model = Doc2Vec.load(path_model)\n",
        "X_train = [model.infer_vector(doc) for doc in X_train]\n",
        "X_test = [model.infer_vector(doc) for doc in X_test]"
      ]
    },
    {
      "cell_type": "markdown",
      "metadata": {
        "id": "H33vKcp04Uq3"
      },
      "source": [
        "Treina um classificador e calcula a acucácia"
      ]
    },
    {
      "cell_type": "code",
      "execution_count": 18,
      "metadata": {
        "colab": {
          "base_uri": "https://localhost:8080/",
          "height": 353
        },
        "id": "Y_mFrwes2ucy",
        "outputId": "01f2a6d0-ef66-403c-b6ce-e4b5273a9f2f"
      },
      "outputs": [
        {
          "data": {
            "text/markdown": [
              "###Acurácia utilizando LogisticRegression e Doc2Vec: 85.8%"
            ],
            "text/plain": [
              "<IPython.core.display.Markdown object>"
            ]
          },
          "metadata": {},
          "output_type": "display_data"
        },
        {
          "data": {
            "text/plain": [
              "<Figure size 360x360 with 0 Axes>"
            ]
          },
          "metadata": {},
          "output_type": "display_data"
        },
        {
          "data": {
            "image/png": "[encoded data removed]",
            "text/plain": [
              "<Figure size 432x288 with 2 Axes>"
            ]
          },
          "metadata": {
            "needs_background": "light"
          },
          "output_type": "display_data"
        }
      ],
      "source": [
        "#Treina o classificador\n",
        "model_LR = LogisticRegression(solver='lbfgs', max_iter=500,random_state=42)\n",
        "model_LR = model_LR.fit(X_train, y_train)\n",
        "pred_LR = model_LR.predict(X_test)\n",
        "\n",
        "##Plota os resultados\n",
        "display(Markdown(f\"###Acurácia utilizando LogisticRegression e Doc2Vec: {acc}%\"))\n",
        "matrix(confusion_matrix(y_test, pred_LR))"
      ]
    },
    {
      "cell_type": "markdown",
      "metadata": {
        "id": "Dtu4hi8aMxSn"
      },
      "source": [
        "## GridSearch\n",
        "- É utilizado para encontrar os melhores parametros para os classificadores"
      ]
    },
    {
      "cell_type": "markdown",
      "metadata": {
        "id": "mb56QoCoNmza"
      },
      "source": [
        "Divide os dados em treino e teste e vetoriza utilizando tf-idf"
      ]
    },
    {
      "cell_type": "code",
      "execution_count": 81,
      "metadata": {
        "id": "EgX9SqS05TSa"
      },
      "outputs": [],
      "source": [
        "X_train, X_test, y_train, y_test = train_test_split(X, y, test_size = 0.2, random_state = 42,stratify=y)\n",
        "X_train, X_test = vetorizer_tfidf(X_train,X_test)"
      ]
    },
    {
      "cell_type": "markdown",
      "metadata": {
        "id": "RsOTztkm5UyQ"
      },
      "source": [
        "Define os parametros que devem ser testados pelo GridSearch"
      ]
    },
    {
      "cell_type": "code",
      "execution_count": 82,
      "metadata": {
        "id": "1UzFogSt57Fi"
      },
      "outputs": [],
      "source": [
        "params = []\n",
        "check_parameters_lr = {\"C\": np.logspace(-3,3,7), \"penalty\": [\"l1\",\"l2\"]}\n",
        "\n",
        "check_parameters_rf = {'n_estimators': [200, 500],\n",
        "  'max_features': ['sqrt', 'log2'],\n",
        "  'max_depth' : [4, 5, 6, 7, 8],\n",
        "  'criterion' :['gini', 'entropy'],\n",
        "  'min_samples_split': [2, 5, 10]\n",
        "}\n",
        "check_parameters_nb = {'fit_prior': [True, False],\n",
        "  'class_prior': [None, [0.1,] * 2, ]\n",
        "}\n",
        "check_parameters_knn = {\"n_neighbors\": list(np.arange(3, 20, 2))}\n",
        "\n",
        "params.append(check_parameters_lr)\n",
        "params.append(check_parameters_nb)\n",
        "params.append(check_parameters_knn)\n",
        "params.append(check_parameters_rf)\n",
        "\n",
        "classifiers = [LogisticRegression(max_iter=3000, solver='liblinear', multi_class='ovr',random_state=12345), \n",
        "                BernoulliNB(),\n",
        "                KNeighborsClassifier(),\n",
        "                RandomForestClassifier(random_state=12345),\n",
        "               ]"
      ]
    },
    {
      "cell_type": "markdown",
      "metadata": {
        "id": "ub3KTmDF5-oh"
      },
      "source": [
        "Utiliza o GridSearch para encontrar os melhores parametros para os classificadores."
      ]
    },
    {
      "cell_type": "code",
      "execution_count": 83,
      "metadata": {
        "colab": {
          "base_uri": "https://localhost:8080/",
          "height": 565
        },
        "id": "h9VgPAWcMyXY",
        "outputId": "6f6d0b88-6969-453e-edf8-2566d82dbec3"
      },
      "outputs": [
        {
          "data": {
            "text/markdown": [
              "### LogisticRegression"
            ],
            "text/plain": [
              "<IPython.core.display.Markdown object>"
            ]
          },
          "metadata": {},
          "output_type": "display_data"
        },
        {
          "data": {
            "text/markdown": [
              "\n",
              "- Best parameters found - LogisticRegression: {'C': 1.0, 'penalty': 'l2'}"
            ],
            "text/plain": [
              "<IPython.core.display.Markdown object>"
            ]
          },
          "metadata": {},
          "output_type": "display_data"
        },
        {
          "data": {
            "text/markdown": [
              "\n",
              "- Acc: 90.2\n",
              "- F1 Score: 86.4078567248294\n",
              "- Precision: 87.89685835465046\n",
              "- Recall: 85.17501575498329\n"
            ],
            "text/plain": [
              "<IPython.core.display.Markdown object>"
            ]
          },
          "metadata": {},
          "output_type": "display_data"
        },
        {
          "data": {
            "text/markdown": [
              "### BernoulliNB"
            ],
            "text/plain": [
              "<IPython.core.display.Markdown object>"
            ]
          },
          "metadata": {},
          "output_type": "display_data"
        },
        {
          "data": {
            "text/markdown": [
              "\n",
              "- Best parameters found - BernoulliNB: {'class_prior': None, 'fit_prior': False}"
            ],
            "text/plain": [
              "<IPython.core.display.Markdown object>"
            ]
          },
          "metadata": {},
          "output_type": "display_data"
        },
        {
          "data": {
            "text/markdown": [
              "\n",
              "- Acc: 86.03\n",
              "- F1 Score: 81.2856942394567\n",
              "- Precision: 81.31531831887256\n",
              "- Recall: 81.25623266710934\n"
            ],
            "text/plain": [
              "<IPython.core.display.Markdown object>"
            ]
          },
          "metadata": {},
          "output_type": "display_data"
        },
        {
          "data": {
            "text/markdown": [
              "### KNeighborsClassifier"
            ],
            "text/plain": [
              "<IPython.core.display.Markdown object>"
            ]
          },
          "metadata": {},
          "output_type": "display_data"
        },
        {
          "data": {
            "text/markdown": [
              "\n",
              "- Best parameters found - KNeighborsClassifier: {'n_neighbors': 3}"
            ],
            "text/plain": [
              "<IPython.core.display.Markdown object>"
            ]
          },
          "metadata": {},
          "output_type": "display_data"
        },
        {
          "data": {
            "text/markdown": [
              "\n",
              "- Acc: 77.10000000000001\n",
              "- F1 Score: 52.45016611295681\n",
              "- Precision: 79.0884736128446\n",
              "- Recall: 54.736120357579765\n"
            ],
            "text/plain": [
              "<IPython.core.display.Markdown object>"
            ]
          },
          "metadata": {},
          "output_type": "display_data"
        },
        {
          "data": {
            "text/markdown": [
              "### RandomForestClassifier"
            ],
            "text/plain": [
              "<IPython.core.display.Markdown object>"
            ]
          },
          "metadata": {},
          "output_type": "display_data"
        },
        {
          "data": {
            "text/markdown": [
              "\n",
              "- Best parameters found - RandomForestClassifier: {'criterion': 'gini', 'max_depth': 8, 'max_features': 'sqrt', 'min_samples_split': 2, 'n_estimators': 200}"
            ],
            "text/plain": [
              "<IPython.core.display.Markdown object>"
            ]
          },
          "metadata": {},
          "output_type": "display_data"
        },
        {
          "data": {
            "text/markdown": [
              "\n",
              "- Acc: 75.32\n",
              "- F1 Score: 43.74279460995794\n",
              "- Precision: 83.09735964576615\n",
              "- Recall: 50.38894412382485\n"
            ],
            "text/plain": [
              "<IPython.core.display.Markdown object>"
            ]
          },
          "metadata": {},
          "output_type": "display_data"
        }
      ],
      "source": [
        "for index, classifier in enumerate(classifiers):\n",
        "    display(Markdown(f\"### {classifier.__class__.__name__}\"))\n",
        "    grid_search_cv = GridSearchCV(classifier, params[index], n_jobs=-1, cv=5)\n",
        "    grid_search_cv.fit(X_train, y_train.ravel())\n",
        "    display(Markdown(f'\\n- Best parameters found - {classifier.__class__.__name__}: {grid_search_cv.best_params_}'))\n",
        "\n",
        "    y_predict = grid_search_cv.best_estimator_.predict(X_test)\n",
        "    acc = accuracy_score(y_test, y_predict)\n",
        "    f1 = f1_score(list(y_test), list(y_predict), average='macro')\n",
        "    precision = precision_score(list(y_test), list(y_predict), average='macro')\n",
        "    recall = recall_score(list(y_test), list(y_predict), average='macro')\n",
        "    display(Markdown(f'\\n- Acc: {acc*100}\\n- F1 Score: {f1*100}\\n- Precision: {precision*100}\\n- Recall: {recall*100}\\n'))"
      ]
    },
    {
      "cell_type": "markdown",
      "metadata": {
        "id": "qRrkXxQQONei"
      },
      "source": [
        "## Validação Cruzada \n",
        "- A validação cruzada é utilizada para escolher o melhor modelo.\n",
        "- É utilizado o algoritmo StratifiedKFold com k igual a 10"
      ]
    },
    {
      "cell_type": "markdown",
      "metadata": {
        "id": "eFocd_TP7RVc"
      },
      "source": [
        "Define os classificadores que serão utilizados na validação cruzada."
      ]
    },
    {
      "cell_type": "code",
      "execution_count": 23,
      "metadata": {
        "id": "z4ZYLBJ4Xzv7"
      },
      "outputs": [],
      "source": [
        "classifiers = {\n",
        "    'Logistic Regression': LogisticRegression(max_iter=3000, \n",
        "                                              solver='liblinear',\n",
        "                                              multi_class='ovr',\n",
        "                                              random_state=12345),\n",
        "    'BernoulliNB': BernoulliNB(),\n",
        "    'KNN': KNeighborsClassifier(n_neighbors= 3),\n",
        "    'Random Forest': RandomForestClassifier(criterion= 'gini', \n",
        "                                            max_depth= 8, \n",
        "                                            max_features= 'sqrt', \n",
        "                                            min_samples_split= 2, \n",
        "                                            n_estimators= 200,\n",
        "                                            random_state=12345),\n",
        "               \n",
        "    'Bagging Classifier': BaggingClassifier(LogisticRegression(max_iter=3000, \n",
        "                                              solver='liblinear',\n",
        "                                              multi_class='ovr',\n",
        "                                              random_state=12345))\n",
        "                    \n",
        "}"
      ]
    },
    {
      "cell_type": "markdown",
      "metadata": {
        "id": "yBFOX4-z9b9G"
      },
      "source": [
        "Função para treinar um modelo e retornar o resultado das métricas de validação."
      ]
    },
    {
      "cell_type": "code",
      "execution_count": 24,
      "metadata": {
        "id": "qZAOFUCTO0Fy"
      },
      "outputs": [],
      "source": [
        "def train_models(X_train,X_test,y_train,y_test,model,name_model):\n",
        "    \"\"\"Treina um classificador e calcula as métricas: acurácia, precisão, recall, f1-score, e gera a matriz de confusão.\n",
        "\n",
        "    Args:\n",
        "        X_train (Array): Dados para treinamento\n",
        "        X_test (Array): Dados de teste\n",
        "        y_train (Array): Rótulos de treinamento\n",
        "        y_test (Array): Rótulos de teste\n",
        "        model (Sklearn Model): Classificador\n",
        "        name_model (String): Nome do classificador\n",
        "\n",
        "    Returns:\n",
        "        dict: Retorna um dicionário com as informações: \n",
        "            Name Model, Precision, Recall, F1-Score, Accuracy, Confusion Matrix e o modelo treinado\n",
        "    \"\"\"\n",
        "    model.fit(X_train, y_train)    \n",
        "    predictions = model.predict(X_test)\n",
        "    \n",
        "    #Calcula as metricas do modelo\n",
        "    acc = accuracy_score(y_test, predictions) * 100\n",
        "    precision = precision_score(y_test, predictions) * 100\n",
        "    recall = recall_score(y_test, predictions) * 100\n",
        "    f1 = f1_score(y_test, predictions) * 100\n",
        "    conf_mat = confusion_matrix(y_test, predictions)\n",
        "    metrics = {\n",
        "        'Name Model':name_model,\n",
        "        'Precision':precision,\n",
        "        'Recall': recall,\n",
        "        'F1-score': f1,\n",
        "        'Accuracy': acc,\n",
        "        'Confusion matrix':conf_mat,\n",
        "        'Model': model\n",
        "    }\n",
        "    return metrics"
      ]
    },
    {
      "cell_type": "markdown",
      "metadata": {
        "id": "Gq3slECL9mBY"
      },
      "source": [
        "Dados e rotulados para serem utilizados na validação cruzada"
      ]
    },
    {
      "cell_type": "code",
      "execution_count": 25,
      "metadata": {
        "id": "yl2xgURvQo20"
      },
      "outputs": [],
      "source": [
        "X = df['text_stem']\n",
        "y = df['recommend_to_a_friend_cat']"
      ]
    },
    {
      "cell_type": "markdown",
      "metadata": {
        "id": "eVrCZCKH9qfJ"
      },
      "source": [
        "Código para validação cruzada."
      ]
    },
    {
      "cell_type": "code",
      "execution_count": 26,
      "metadata": {
        "colab": {
          "base_uri": "https://localhost:8080/",
          "height": 236
        },
        "id": "Vjvhx4l-cp1X",
        "outputId": "6e7ddef6-96a7-4dec-beea-0bb7b566f9d3"
      },
      "outputs": [
        {
          "data": {
            "text/html": [
              "\n",
              "  <div id=\"df-700ff2d7-3ed9-4b27-b701-08f421f10560\">\n",
              "    <div class=\"colab-df-container\">\n",
              "      <div>\n",
              "<style scoped>\n",
              "    .dataframe tbody tr th:only-of-type {\n",
              "        vertical-align: middle;\n",
              "    }\n",
              "\n",
              "    .dataframe tbody tr th {\n",
              "        vertical-align: top;\n",
              "    }\n",
              "\n",
              "    .dataframe thead th {\n",
              "        text-align: right;\n",
              "    }\n",
              "</style>\n",
              "<table border=\"1\" class=\"dataframe\">\n",
              "  <thead>\n",
              "    <tr style=\"text-align: right;\">\n",
              "      <th></th>\n",
              "      <th>Name Model</th>\n",
              "      <th>Precision</th>\n",
              "      <th>Recall</th>\n",
              "      <th>F1-score</th>\n",
              "      <th>Accuracy</th>\n",
              "      <th>Confusion matrix</th>\n",
              "      <th>Model</th>\n",
              "    </tr>\n",
              "  </thead>\n",
              "  <tbody>\n",
              "    <tr>\n",
              "      <th>0</th>\n",
              "      <td>Logistic Regression</td>\n",
              "      <td>92.721601</td>\n",
              "      <td>94.917509</td>\n",
              "      <td>93.806706</td>\n",
              "      <td>90.58</td>\n",
              "      <td>[[962, 280], [191, 3567]]</td>\n",
              "      <td>LogisticRegression(max_iter=3000, multi_class=...</td>\n",
              "    </tr>\n",
              "    <tr>\n",
              "      <th>1</th>\n",
              "      <td>BernoulliNB</td>\n",
              "      <td>89.456045</td>\n",
              "      <td>92.336349</td>\n",
              "      <td>90.873380</td>\n",
              "      <td>86.06</td>\n",
              "      <td>[[833, 409], [288, 3470]]</td>\n",
              "      <td>BernoulliNB()</td>\n",
              "    </tr>\n",
              "    <tr>\n",
              "      <th>...</th>\n",
              "      <td>...</td>\n",
              "      <td>...</td>\n",
              "      <td>...</td>\n",
              "      <td>...</td>\n",
              "      <td>...</td>\n",
              "      <td>...</td>\n",
              "      <td>...</td>\n",
              "    </tr>\n",
              "    <tr>\n",
              "      <th>48</th>\n",
              "      <td>Random Forest</td>\n",
              "      <td>75.240385</td>\n",
              "      <td>99.973383</td>\n",
              "      <td>85.861241</td>\n",
              "      <td>75.26</td>\n",
              "      <td>[[7, 1236], [1, 3756]]</td>\n",
              "      <td>(DecisionTreeClassifier(max_depth=8, max_featu...</td>\n",
              "    </tr>\n",
              "    <tr>\n",
              "      <th>49</th>\n",
              "      <td>Bagging Classifier</td>\n",
              "      <td>91.923077</td>\n",
              "      <td>95.421879</td>\n",
              "      <td>93.639807</td>\n",
              "      <td>90.26</td>\n",
              "      <td>[[928, 315], [172, 3585]]</td>\n",
              "      <td>(LogisticRegression(max_iter=3000, multi_class...</td>\n",
              "    </tr>\n",
              "  </tbody>\n",
              "</table>\n",
              "<p>50 rows × 7 columns</p>\n",
              "</div>\n",
              "      <button class=\"colab-df-convert\" onclick=\"convertToInteractive('df-700ff2d7-3ed9-4b27-b701-08f421f10560')\"\n",
              "              title=\"Convert this dataframe to an interactive table.\"\n",
              "              style=\"display:none;\">\n",
              "        \n",
              "  <svg xmlns=\"http://www.w3.org/2000/svg\" height=\"24px\"viewBox=\"0 0 24 24\"\n",
              "       width=\"24px\">\n",
              "    <path d=\"M0 0h24v24H0V0z\" fill=\"none\"/>\n",
              "    <path d=\"M18.56 5.44l.94 2.06.94-2.06 2.06-.94-2.06-.94-.94-2.06-.94 2.06-2.06.94zm-11 1L8.5 8.5l.94-2.06 2.06-.94-2.06-.94L8.5 2.5l-.94 2.06-2.06.94zm10 10l.94 2.06.94-2.06 2.06-.94-2.06-.94-.94-2.06-.94 2.06-2.06.94z\"/><path d=\"M17.41 7.96l-1.37-1.37c-.4-.4-.92-.59-1.43-.59-.52 0-1.04.2-1.43.59L10.3 9.45l-7.72 7.72c-.78.78-.78 2.05 0 2.83L4 21.41c.39.39.9.59 1.41.59.51 0 1.02-.2 1.41-.59l7.78-7.78 2.81-2.81c.8-.78.8-2.07 0-2.86zM5.41 20L4 18.59l7.72-7.72 1.47 1.35L5.41 20z\"/>\n",
              "  </svg>\n",
              "      </button>\n",
              "      \n",
              "  <style>\n",
              "    .colab-df-container {\n",
              "      display:flex;\n",
              "      flex-wrap:wrap;\n",
              "      gap: 12px;\n",
              "    }\n",
              "\n",
              "    .colab-df-convert {\n",
              "      background-color: #E8F0FE;\n",
              "      border: none;\n",
              "      border-radius: 50%;\n",
              "      cursor: pointer;\n",
              "      display: none;\n",
              "      fill: #1967D2;\n",
              "      height: 32px;\n",
              "      padding: 0 0 0 0;\n",
              "      width: 32px;\n",
              "    }\n",
              "\n",
              "    .colab-df-convert:hover {\n",
              "      background-color: #E2EBFA;\n",
              "      box-shadow: 0px 1px 2px rgba(60, 64, 67, 0.3), 0px 1px 3px 1px rgba(60, 64, 67, 0.15);\n",
              "      fill: #174EA6;\n",
              "    }\n",
              "\n",
              "    [theme=dark] .colab-df-convert {\n",
              "      background-color: #3B4455;\n",
              "      fill: #D2E3FC;\n",
              "    }\n",
              "\n",
              "    [theme=dark] .colab-df-convert:hover {\n",
              "      background-color: #434B5C;\n",
              "      box-shadow: 0px 1px 3px 1px rgba(0, 0, 0, 0.15);\n",
              "      filter: drop-shadow(0px 1px 2px rgba(0, 0, 0, 0.3));\n",
              "      fill: #FFFFFF;\n",
              "    }\n",
              "  </style>\n",
              "\n",
              "      <script>\n",
              "        const buttonEl =\n",
              "          document.querySelector('#df-700ff2d7-3ed9-4b27-b701-08f421f10560 button.colab-df-convert');\n",
              "        buttonEl.style.display =\n",
              "          google.colab.kernel.accessAllowed ? 'block' : 'none';\n",
              "\n",
              "        async function convertToInteractive(key) {\n",
              "          const element = document.querySelector('#df-700ff2d7-3ed9-4b27-b701-08f421f10560');\n",
              "          const dataTable =\n",
              "            await google.colab.kernel.invokeFunction('convertToInteractive',\n",
              "                                                     [key], {});\n",
              "          if (!dataTable) return;\n",
              "\n",
              "          const docLinkHtml = 'Like what you see? Visit the ' +\n",
              "            '<a target=\"_blank\" href=https://colab.research.google.com/notebooks/data_table.ipynb>data table notebook</a>'\n",
              "            + ' to learn more about interactive tables.';\n",
              "          element.innerHTML = '';\n",
              "          dataTable['output_type'] = 'display_data';\n",
              "          await google.colab.output.renderOutput(dataTable, element);\n",
              "          const docLink = document.createElement('div');\n",
              "          docLink.innerHTML = docLinkHtml;\n",
              "          element.appendChild(docLink);\n",
              "        }\n",
              "      </script>\n",
              "    </div>\n",
              "  </div>\n",
              "  "
            ],
            "text/plain": [
              "             Name Model  Precision     Recall   F1-score  Accuracy  \\\n",
              "0   Logistic Regression  92.721601  94.917509  93.806706     90.58   \n",
              "1           BernoulliNB  89.456045  92.336349  90.873380     86.06   \n",
              "..                  ...        ...        ...        ...       ...   \n",
              "48        Random Forest  75.240385  99.973383  85.861241     75.26   \n",
              "49   Bagging Classifier  91.923077  95.421879  93.639807     90.26   \n",
              "\n",
              "             Confusion matrix  \\\n",
              "0   [[962, 280], [191, 3567]]   \n",
              "1   [[833, 409], [288, 3470]]   \n",
              "..                        ...   \n",
              "48     [[7, 1236], [1, 3756]]   \n",
              "49  [[928, 315], [172, 3585]]   \n",
              "\n",
              "                                                Model  \n",
              "0   LogisticRegression(max_iter=3000, multi_class=...  \n",
              "1                                       BernoulliNB()  \n",
              "..                                                ...  \n",
              "48  (DecisionTreeClassifier(max_depth=8, max_featu...  \n",
              "49  (LogisticRegression(max_iter=3000, multi_class...  \n",
              "\n",
              "[50 rows x 7 columns]"
            ]
          },
          "execution_count": 26,
          "metadata": {},
          "output_type": "execute_result"
        }
      ],
      "source": [
        "kf = StratifiedKFold(n_splits=10, random_state=1, shuffle=True)\n",
        "dataset_results = []\n",
        "for train_index, test_index in kf.split(X,y):\n",
        "  X_train, X_test = X[train_index], X[test_index]\n",
        "  y_train, y_test = y[train_index], y[test_index]\n",
        "\n",
        "  X_train, X_test = vetorizer_tfidf(X_train,X_test)\n",
        "\n",
        "  for model in classifiers:\n",
        "    metrics = train_models(X_train, X_test,y_train, y_test, classifiers[model], model)\n",
        "    dataset_results.extend([metrics])\n",
        "\n",
        "#dataset com os resultados\n",
        "dataset_results = pd.DataFrame(dataset_results)\n",
        "dataset_results"
      ]
    },
    {
      "cell_type": "markdown",
      "metadata": {
        "id": "vExHmSWmN-iF"
      },
      "source": [
        "Função para printar o resultado da validação cruzada"
      ]
    },
    {
      "cell_type": "code",
      "execution_count": 27,
      "metadata": {
        "id": "OwWad3o6hhI2"
      },
      "outputs": [],
      "source": [
        "def metrics(data,name_model,metric):\n",
        "  metric_mean = data[data['Name Model']==name_model][metric].mean()\n",
        "  metric_std = data[data['Name Model']==name_model][metric].std()\n",
        "  max = data[data['Name Model']==name_model][metric].max()\n",
        "  display(Markdown(f'\\n- {metric}: {metric_mean:.2f} +- {metric_std:.2f}\\n- Maior {metric}: {max:.2f}'))"
      ]
    },
    {
      "cell_type": "code",
      "execution_count": 28,
      "metadata": {
        "colab": {
          "base_uri": "https://localhost:8080/",
          "height": 614
        },
        "id": "ZKhFyqqDlfqJ",
        "outputId": "f29d441f-0ce5-4ac4-e0c0-e644d42bc42a"
      },
      "outputs": [
        {
          "data": {
            "text/markdown": [
              "###Logistic Regression"
            ],
            "text/plain": [
              "<IPython.core.display.Markdown object>"
            ]
          },
          "metadata": {},
          "output_type": "display_data"
        },
        {
          "data": {
            "text/markdown": [
              "\n",
              "- Accuracy: 90.32 +- 0.43\n",
              "- Maior Accuracy: 90.80"
            ],
            "text/plain": [
              "<IPython.core.display.Markdown object>"
            ]
          },
          "metadata": {},
          "output_type": "display_data"
        },
        {
          "data": {
            "text/markdown": [
              "\n",
              "- F1-score: 93.65 +- 0.29\n",
              "- Maior F1-score: 93.97"
            ],
            "text/plain": [
              "<IPython.core.display.Markdown object>"
            ]
          },
          "metadata": {},
          "output_type": "display_data"
        },
        {
          "data": {
            "text/markdown": [
              "###BernoulliNB"
            ],
            "text/plain": [
              "<IPython.core.display.Markdown object>"
            ]
          },
          "metadata": {},
          "output_type": "display_data"
        },
        {
          "data": {
            "text/markdown": [
              "\n",
              "- Accuracy: 86.12 +- 0.52\n",
              "- Maior Accuracy: 86.72"
            ],
            "text/plain": [
              "<IPython.core.display.Markdown object>"
            ]
          },
          "metadata": {},
          "output_type": "display_data"
        },
        {
          "data": {
            "text/markdown": [
              "\n",
              "- F1-score: 90.90 +- 0.36\n",
              "- Maior F1-score: 91.28"
            ],
            "text/plain": [
              "<IPython.core.display.Markdown object>"
            ]
          },
          "metadata": {},
          "output_type": "display_data"
        },
        {
          "data": {
            "text/markdown": [
              "###KNN"
            ],
            "text/plain": [
              "<IPython.core.display.Markdown object>"
            ]
          },
          "metadata": {},
          "output_type": "display_data"
        },
        {
          "data": {
            "text/markdown": [
              "\n",
              "- Accuracy: 75.02 +- 6.00\n",
              "- Maior Accuracy: 78.18"
            ],
            "text/plain": [
              "<IPython.core.display.Markdown object>"
            ]
          },
          "metadata": {},
          "output_type": "display_data"
        },
        {
          "data": {
            "text/markdown": [
              "\n",
              "- F1-score: 83.38 +- 7.45\n",
              "- Maior F1-score: 87.03"
            ],
            "text/plain": [
              "<IPython.core.display.Markdown object>"
            ]
          },
          "metadata": {},
          "output_type": "display_data"
        },
        {
          "data": {
            "text/markdown": [
              "###Random Forest"
            ],
            "text/plain": [
              "<IPython.core.display.Markdown object>"
            ]
          },
          "metadata": {},
          "output_type": "display_data"
        },
        {
          "data": {
            "text/markdown": [
              "\n",
              "- Accuracy: 75.31 +- 0.06\n",
              "- Maior Accuracy: 75.46"
            ],
            "text/plain": [
              "<IPython.core.display.Markdown object>"
            ]
          },
          "metadata": {},
          "output_type": "display_data"
        },
        {
          "data": {
            "text/markdown": [
              "\n",
              "- F1-score: 85.89 +- 0.03\n",
              "- Maior F1-score: 85.96"
            ],
            "text/plain": [
              "<IPython.core.display.Markdown object>"
            ]
          },
          "metadata": {},
          "output_type": "display_data"
        },
        {
          "data": {
            "text/markdown": [
              "###Bagging Classifier"
            ],
            "text/plain": [
              "<IPython.core.display.Markdown object>"
            ]
          },
          "metadata": {},
          "output_type": "display_data"
        },
        {
          "data": {
            "text/markdown": [
              "\n",
              "- Accuracy: 90.25 +- 0.36\n",
              "- Maior Accuracy: 90.76"
            ],
            "text/plain": [
              "<IPython.core.display.Markdown object>"
            ]
          },
          "metadata": {},
          "output_type": "display_data"
        },
        {
          "data": {
            "text/markdown": [
              "\n",
              "- F1-score: 93.61 +- 0.25\n",
              "- Maior F1-score: 93.95"
            ],
            "text/plain": [
              "<IPython.core.display.Markdown object>"
            ]
          },
          "metadata": {},
          "output_type": "display_data"
        }
      ],
      "source": [
        "for model in classifiers:\n",
        "  display(Markdown(f'###{model}'))\n",
        "  metrics(dataset_results,model,'Accuracy')\n",
        "  metrics(dataset_results,model,'F1-score')"
      ]
    },
    {
      "cell_type": "markdown",
      "metadata": {
        "id": "tm2e4Vxt94rf"
      },
      "source": [
        "A partir desta analise, fica claro que o classificador de Regressão logistica possui os melhores resultados de classificação, tendo uma média de acurácia de 90.32% e do F1-Score de 93.65%. Logo este classificador deve ser utilizado como padrão para o projeto."
      ]
    },
    {
      "cell_type": "markdown",
      "metadata": {
        "id": "4qqop3QOnDfg"
      },
      "source": [
        "## Experimento do com os pré-processamentos\n",
        "- Este experimento foi desenvolvido para encontrar a melhor técnica de pré-processamento e quais colunas do dataset melhor representam o sentimento dos usuários.\n",
        "- Os experimentos são:\n",
        "  - Teste com os pré-processamentos de lematização, stematização e lematização + stemização.\n",
        "  - Teste utilizando a coluna de title, text e title + text."
      ]
    },
    {
      "cell_type": "code",
      "execution_count": 85,
      "metadata": {
        "id": "dYwm4qFpoFAe"
      },
      "outputs": [],
      "source": [
        "data = df.copy()\n",
        "data['text_stem'] = data['text_stem'].apply(eval)\n",
        "data['title_stem'] = data['title_stem'].apply(eval)\n",
        "data['title_text_stem'] = [title+text for title, text in zip(data['title_stem'],data['text_stem'])]\n",
        "\n",
        "data['text_lemma'] = data['text_lemma'].apply(eval)\n",
        "data['title_lemma'] = data['title_lemma'].apply(eval)\n",
        "data['title_text_lemma'] = [title+text for title, text in zip(data['title_lemma'],data['text_lemma'])]\n",
        "\n",
        "data['text_lemma_stem'] = data['text_lemma_stem'].apply(eval)\n",
        "data['title_lemma_stem'] = data['title_lemma_stem'].apply(eval)\n",
        "data['title_text_lemma_stem'] = [title+text for title, text in zip(data['title_lemma_stem'],data['text_lemma_stem'])]"
      ]
    },
    {
      "cell_type": "code",
      "execution_count": 86,
      "metadata": {
        "id": "VhXHl6UZqVrK"
      },
      "outputs": [],
      "source": [
        "y = data['recommend_to_a_friend_cat']\n",
        "data = data[['text_stem',\n",
        "       'text_lemma', \n",
        "       'text_lemma_stem', \n",
        "       'title_stem', \n",
        "       'title_lemma',\n",
        "       'title_lemma_stem', \n",
        "       'title_text_stem', \n",
        "       'title_text_lemma',\n",
        "       'title_text_lemma_stem']]"
      ]
    },
    {
      "cell_type": "code",
      "execution_count": 87,
      "metadata": {
        "colab": {
          "base_uri": "https://localhost:8080/",
          "height": 270
        },
        "id": "4MKYOtwqqjMi",
        "outputId": "fa60a522-4435-4d1d-aebc-88a7e41a32e9"
      },
      "outputs": [
        {
          "data": {
            "text/markdown": [
              "###Acurácias"
            ],
            "text/plain": [
              "<IPython.core.display.Markdown object>"
            ]
          },
          "metadata": {},
          "output_type": "display_data"
        },
        {
          "data": {
            "text/markdown": [
              "\n",
              "- text_stem: 90.19%"
            ],
            "text/plain": [
              "<IPython.core.display.Markdown object>"
            ]
          },
          "metadata": {},
          "output_type": "display_data"
        },
        {
          "data": {
            "text/markdown": [
              "\n",
              "- text_lemma: 90.21%"
            ],
            "text/plain": [
              "<IPython.core.display.Markdown object>"
            ]
          },
          "metadata": {},
          "output_type": "display_data"
        },
        {
          "data": {
            "text/markdown": [
              "\n",
              "- text_lemma_stem: 89.93%"
            ],
            "text/plain": [
              "<IPython.core.display.Markdown object>"
            ]
          },
          "metadata": {},
          "output_type": "display_data"
        },
        {
          "data": {
            "text/markdown": [
              "\n",
              "- title_stem: 88.79%"
            ],
            "text/plain": [
              "<IPython.core.display.Markdown object>"
            ]
          },
          "metadata": {},
          "output_type": "display_data"
        },
        {
          "data": {
            "text/markdown": [
              "\n",
              "- title_lemma: 89.05%"
            ],
            "text/plain": [
              "<IPython.core.display.Markdown object>"
            ]
          },
          "metadata": {},
          "output_type": "display_data"
        },
        {
          "data": {
            "text/markdown": [
              "\n",
              "- title_lemma_stem: 88.78%"
            ],
            "text/plain": [
              "<IPython.core.display.Markdown object>"
            ]
          },
          "metadata": {},
          "output_type": "display_data"
        },
        {
          "data": {
            "text/markdown": [
              "\n",
              "- title_text_stem: 91.96%"
            ],
            "text/plain": [
              "<IPython.core.display.Markdown object>"
            ]
          },
          "metadata": {},
          "output_type": "display_data"
        },
        {
          "data": {
            "text/markdown": [
              "\n",
              "- title_text_lemma: 92.49%"
            ],
            "text/plain": [
              "<IPython.core.display.Markdown object>"
            ]
          },
          "metadata": {},
          "output_type": "display_data"
        },
        {
          "data": {
            "text/markdown": [
              "\n",
              "- title_text_lemma_stem: 92.17%"
            ],
            "text/plain": [
              "<IPython.core.display.Markdown object>"
            ]
          },
          "metadata": {},
          "output_type": "display_data"
        }
      ],
      "source": [
        "display(Markdown(f\"###Acurácias\"))\n",
        "for col in data.columns:\n",
        "  X = data[col]\n",
        "  X_train, X_test, y_train, y_test = train_test_split(X, y, test_size = 0.2, random_state = 42,stratify=y)\n",
        "\n",
        "  X_train_tfidf, X_test_tfidf = vetorizer_tfidf(X_train,X_test)\n",
        "\n",
        "  #Treina o classificador\n",
        "  model_LR = LogisticRegression(solver='lbfgs', multi_class='ovr',max_iter=3000,random_state=12345)\n",
        "  model_LR = model_LR.fit(X_train_tfidf, y_train)\n",
        "\n",
        "  #Plota os resultados\n",
        "  pred_LR = model_LR.predict(X_test_tfidf)\n",
        "  acc = accuracy_score(y_test,pred_LR) * 100\n",
        "  display(Markdown(f\"\\n- {col}: {acc:.2f}%\"))"
      ]
    },
    {
      "cell_type": "markdown",
      "metadata": {
        "id": "o25CztdIsnf1"
      },
      "source": [
        "A Partir desta analíse, fica claro que a lematização é o melhor pré-processamento textual para os dados das Americanas, onde alcançou 92.49% de acurácia utilizando a coluna com os dados de title e text. Sendo assim, ela será utilizada como pré-processamento padrão. "
      ]
    }
  ],
  "metadata": {
    "accelerator": "GPU",
    "colab": {
      "provenance": []
    },
    "gpuClass": "standard",
    "kernelspec": {
      "display_name": "apolo",
      "language": "python",
      "name": "python3"
    },
    "language_info": {
      "codemirror_mode": {
        "name": "ipython",
        "version": 3
      },
      "file_extension": ".py",
      "mimetype": "text/x-python",
      "name": "python",
      "nbconvert_exporter": "python",
      "pygments_lexer": "ipython3",
      "version": "3.7.13"
    },
    "vscode": {
      "interpreter": {
        "hash": "6a475ba972ba5257029f78105ab8865320a58f758b398affa8152984676405c1"
      }
    }
  },
  "nbformat": 4,
  "nbformat_minor": 0
}
